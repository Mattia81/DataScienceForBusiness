{
 "cells": [
  {
   "cell_type": "code",
   "execution_count": null,
   "metadata": {},
   "outputs": [],
   "source": [
    "#This is for the plot of the various things we want to plot\n",
    "def condition_plot(x,y,title):\n",
    "    plt.figure()\n",
    "    #plotting every provinces\n",
    "    for i in range(1,len(y)):\n",
    "        plt.plot(x,y[i][1:],label=y[i][0])\n",
    "    plt.legend(bbox_to_anchor=(1, 1.05))\n",
    "\n",
    "\n",
    "    plt.xlabel('Days')\n",
    "    plt.ylabel(title[0])\n",
    "    plt.title(title[0]+' for '+title[1])\n",
    "\n",
    "    plt.show()\n",
    "    plt.clf()\n",
    "\n",
    "#this is to have a top ten list of regions/provinces\n",
    "def top_ten_list(dataset,name_column):\n",
    "    #loading the list\n",
    "    y=[]  #list of the condition for provinces/regions, in which every entry of the list is a day (its a list of lists)\n",
    "    for i in range(dataset.shape[0]):\n",
    "        y.append(dataset.iloc[i,name_column:]) #position 1 is the province name, which we need for the label in the graph\n",
    "\n",
    "    #Let's start with the top ten \n",
    "    top_ten=[]\n",
    "    last_day=[]\n",
    "    #first let's determine the last day how many people has a certain condition\n",
    "    for i in range(name_column,len(y)):\n",
    "        last_day.append(y[i][-1])\n",
    "    last_day.sort(reverse = True)\n",
    "\n",
    "  \n",
    "    #then let's have only the first 10\n",
    "    for i in range(name_column,len(y)):\n",
    "        if y[i][-1] in last_day[0:10]:\n",
    "            top_ten.append(y[i])\n",
    "    \n",
    "    return top_ten"
   ]
  }
 ],
 "metadata": {
  "kernelspec": {
   "display_name": "Python 3",
   "language": "python",
   "name": "python3"
  },
  "language_info": {
   "codemirror_mode": {
    "name": "ipython",
    "version": 3
   },
   "file_extension": ".py",
   "mimetype": "text/x-python",
   "name": "python",
   "nbconvert_exporter": "python",
   "pygments_lexer": "ipython3",
   "version": "3.6.9"
  }
 },
 "nbformat": 4,
 "nbformat_minor": 4
}
