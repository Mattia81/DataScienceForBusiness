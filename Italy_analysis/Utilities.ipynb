{
 "cells": [
  {
   "cell_type": "markdown",
   "metadata": {},
   "source": [
    "Plot creator:\n",
    "This is for the plot of the various things we want to plot    "
   ]
  },
  {
   "cell_type": "code",
   "execution_count": 10,
   "metadata": {},
   "outputs": [],
   "source": [
    "#Colors to make every graph costant\n",
    "colorMap = {\"Lombardia\": \"red\", \"Campania\": \"blue\", \"Abruzzo\": \"green\", \"Molise\": \"black\", \"Piemonte\": \"purple\",\n",
    "           \"Basilicata\": \"brown\",\"Sardegna\": \"pink\",\"Sicilia\": \"orange\",\"Valle D'Aosta\": \"gray\",\"Veneto\": \"yellow\",\n",
    "           \"Lazio\": \"cyan\",\"Umbria\": \"olive\",\"Marche\": \"magenta\",\"Toscana\": \"gold\",\"Emilia-Romagna\": \"lime\"\n",
    "            ,\"Trentino Alto Adige\": \"blueviolet\",\"Friuli Venezia Giulia\": \"khaki\",\"Calabria\": \"lightcoral\",\n",
    "           \"Puglia\": \"indigo\",\"Veneto\": \"sandybrown\",\"Liguria\":\"teal\",\"P.A. Trento\": \"blueviolet\"}\n",
    "\n",
    "\n",
    "'''\n",
    "Input:\n",
    "x-> the range of days passed since the thing we want to represent Ex: if a month passed, x=range(1,30)\n",
    "y-> is an array of datasets row. Each component of the list is a row containing a province/region with \n",
    "the values for the matter in exam following. Ex: if we are analyzing the deaths, every component of the list will be: \n",
    "'Abruzzo,0,20,...,2000' The rows goes on as the same amount of days passed\n",
    "title-> The name given to the graph. It's a list of two elements, cause and effect of the graph. Ex: ['Number of deaths','Region']\n",
    "\n",
    "Output: It prints the graph\n",
    "'''\n",
    "def condition_plot(x,y,title):\n",
    "    plt.figure()\n",
    "    \n",
    "    for i in range(0,len(y)):\n",
    "        if(title[1]=='regions'):\n",
    "            plt.plot(x,y[i][1:],color=colorMap[y[i][0]],label=y[i][0])\n",
    "        else:\n",
    "            plt.plot(x,y[i][1:],label=y[i][0])\n",
    "    plt.legend(bbox_to_anchor=(1, 1.05))\n",
    "\n",
    "\n",
    "    plt.xlabel('Days')\n",
    "    plt.ylabel(title[0])\n",
    "    plt.title(title[0]+' for '+title[1])\n",
    "\n",
    "    plt.show()\n",
    "    plt.clf()\n",
    "\n",
    "\n"
   ]
  },
  {
   "cell_type": "markdown",
   "metadata": {},
   "source": [
    "Top ten regions/provinces: this is to have a top ten list of regions/provinces"
   ]
  },
  {
   "cell_type": "code",
   "execution_count": null,
   "metadata": {},
   "outputs": [],
   "source": [
    "'''\n",
    "Input:\n",
    "dataset-> it's the dataset in which we have our data to classify\n",
    "name_column-> it's the name/index of the column where the names to assign to each value  is stored. \n",
    "If Abruzzo is the best region for example, we want to use that name, and that name is stored at column '0'\n",
    "\n",
    "Output:\n",
    "A list containing dataset rows, in which we have the region and the values that will be used in the graphs\n",
    "'''\n",
    "\n",
    "def top_ten_list(dataset,name_column):\n",
    "    #loading the list\n",
    "    y=[]  #list of the condition for provinces/regions, in which every entry of the list is a day (its a list of lists)\n",
    "    for i in range(dataset.shape[0]):\n",
    "        y.append(dataset.iloc[i,name_column:]) #position 1 is the province name, which we need for the label in the graph\n",
    "\n",
    "    #Let's start with the top ten \n",
    "    top_ten=[]\n",
    "    last_day=[]\n",
    "    #first let's determine the last day how many people has a certain condition\n",
    "    for i in range(name_column,len(y)):\n",
    "        last_day.append(y[i][-1])\n",
    "    last_day.sort(reverse = True)\n",
    "\n",
    "  \n",
    "    #then let's have only the first 10\n",
    "    for i in range(name_column,len(y)):\n",
    "        if y[i][-1] in last_day[0:10]:\n",
    "            top_ten.append(y[i])\n",
    "    \n",
    "    return top_ten"
   ]
  },
  {
   "cell_type": "markdown",
   "metadata": {},
   "source": [
    "Moving mean"
   ]
  },
  {
   "cell_type": "code",
   "execution_count": 3,
   "metadata": {},
   "outputs": [],
   "source": [
    "'''\n",
    "Input:\n",
    "data-> Dataset\n",
    "window_size-> The size of the moving mean\n",
    "\n",
    "Output:\n",
    "An array with moving averages for each rows of the dataset\n",
    "'''\n",
    "\n",
    "def moving_mean(data,window_size):\n",
    "    i=0\n",
    "    \n",
    "    moving_averages=[]\n",
    "    while i < len(data) - window_size + 1:\n",
    "        this_window = data[i : i + window_size]\n",
    "        #print(this_window[0][1:])\n",
    "        window_average = sum(this_window[1:]) / window_size\n",
    "        moving_averages.append(window_average)\n",
    "        i += 1\n",
    "\n",
    "    return moving_averages\n",
    "\n",
    "'''\n",
    "Input:\n",
    "top_ten-> list of datasets rows, containg name of the region/provinces and its values\n",
    "window_size-> The size of the moving mean\n",
    "\n",
    "Output:\n",
    "An array with moving averages for each rows of the dataset with the name of the region/province\n",
    "'''\n",
    "\n",
    "def moving_mean_with_names(top_ten,windows_size):\n",
    "\n",
    "    moving_averages=[]\n",
    "    for i in range(len(top_ten)):\n",
    "        moving_averages.append(moving_mean(top_ten[i],windows_size))\n",
    "\n",
    " \n",
    "\n",
    "    for i in range(len(top_ten)):\n",
    "        moving_averages[i][0]=top_ten[i][0]\n",
    "    return moving_averages"
   ]
  }
 ],
 "metadata": {
  "kernelspec": {
   "display_name": "Python 3",
   "language": "python",
   "name": "python3"
  },
  "language_info": {
   "codemirror_mode": {
    "name": "ipython",
    "version": 3
   },
   "file_extension": ".py",
   "mimetype": "text/x-python",
   "name": "python",
   "nbconvert_exporter": "python",
   "pygments_lexer": "ipython3",
   "version": "3.6.9"
  }
 },
 "nbformat": 4,
 "nbformat_minor": 4
}
