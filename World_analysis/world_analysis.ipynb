{
 "cells": [
  {
   "cell_type": "markdown",
   "metadata": {},
   "source": [
    "# Init process: import libraries, load datasets and evaluate data for next phases"
   ]
  },
  {
   "cell_type": "markdown",
   "metadata": {},
   "source": [
    "Import ncessary libraries."
   ]
  },
  {
   "cell_type": "code",
   "execution_count": 1,
   "metadata": {},
   "outputs": [],
   "source": [
    "import pandas as pd\n",
    "import datetime\n",
    "import matplotlib.pyplot as plt\n",
    "import numpy as np\n",
    "%matplotlib inline\n",
    "%run utility.ipynb"
   ]
  },
  {
   "cell_type": "markdown",
   "metadata": {},
   "source": [
    "Load dataset about total deaths, new deaths, total cases and new cases."
   ]
  },
  {
   "cell_type": "code",
   "execution_count": 2,
   "metadata": {},
   "outputs": [
    {
     "data": {
      "text/html": [
       "<div>\n",
       "<style scoped>\n",
       "    .dataframe tbody tr th:only-of-type {\n",
       "        vertical-align: middle;\n",
       "    }\n",
       "\n",
       "    .dataframe tbody tr th {\n",
       "        vertical-align: top;\n",
       "    }\n",
       "\n",
       "    .dataframe thead th {\n",
       "        text-align: right;\n",
       "    }\n",
       "</style>\n",
       "<table border=\"1\" class=\"dataframe\">\n",
       "  <thead>\n",
       "    <tr style=\"text-align: right;\">\n",
       "      <th></th>\n",
       "      <th>Date</th>\n",
       "      <th>Country</th>\n",
       "      <th>New cases</th>\n",
       "      <th>New deaths</th>\n",
       "      <th>Total cases</th>\n",
       "      <th>Total deaths</th>\n",
       "    </tr>\n",
       "  </thead>\n",
       "  <tbody>\n",
       "    <tr>\n",
       "      <td>12088</td>\n",
       "      <td>2020-04-16</td>\n",
       "      <td>Zimbabwe</td>\n",
       "      <td>6</td>\n",
       "      <td>0</td>\n",
       "      <td>23</td>\n",
       "      <td>3</td>\n",
       "    </tr>\n",
       "    <tr>\n",
       "      <td>12089</td>\n",
       "      <td>2020-04-17</td>\n",
       "      <td>Zimbabwe</td>\n",
       "      <td>1</td>\n",
       "      <td>0</td>\n",
       "      <td>24</td>\n",
       "      <td>3</td>\n",
       "    </tr>\n",
       "    <tr>\n",
       "      <td>12090</td>\n",
       "      <td>2020-04-18</td>\n",
       "      <td>Zimbabwe</td>\n",
       "      <td>0</td>\n",
       "      <td>0</td>\n",
       "      <td>24</td>\n",
       "      <td>3</td>\n",
       "    </tr>\n",
       "    <tr>\n",
       "      <td>12091</td>\n",
       "      <td>2020-04-19</td>\n",
       "      <td>Zimbabwe</td>\n",
       "      <td>1</td>\n",
       "      <td>0</td>\n",
       "      <td>25</td>\n",
       "      <td>3</td>\n",
       "    </tr>\n",
       "    <tr>\n",
       "      <td>12092</td>\n",
       "      <td>2020-04-20</td>\n",
       "      <td>Zimbabwe</td>\n",
       "      <td>0</td>\n",
       "      <td>0</td>\n",
       "      <td>25</td>\n",
       "      <td>3</td>\n",
       "    </tr>\n",
       "  </tbody>\n",
       "</table>\n",
       "</div>"
      ],
      "text/plain": [
       "             Date   Country  New cases  New deaths  Total cases  Total deaths\n",
       "12088  2020-04-16  Zimbabwe          6           0           23             3\n",
       "12089  2020-04-17  Zimbabwe          1           0           24             3\n",
       "12090  2020-04-18  Zimbabwe          0           0           24             3\n",
       "12091  2020-04-19  Zimbabwe          1           0           25             3\n",
       "12092  2020-04-20  Zimbabwe          0           0           25             3"
      ]
     },
     "execution_count": 2,
     "metadata": {},
     "output_type": "execute_result"
    }
   ],
   "source": [
    "#load full dataset of coronavirus from internet\n",
    "df_all_data_ = pd.read_csv(\"https://covid.ourworldindata.org/data/ecdc/full_data.csv\")\n",
    "#rename columns with more meaningful name\n",
    "df_all_data_.rename(columns={\"location\": \"Country\",\"date\":\"Date\", \"new_cases\":\"New cases\",\n",
    "                            \"new_deaths\":\"New deaths\",\"total_cases\":\"Total cases\", \n",
    "                            \"total_deaths\":\"Total deaths\"}, inplace = True)\n",
    "df_all_data_.tail()"
   ]
  },
  {
   "cell_type": "markdown",
   "metadata": {},
   "source": [
    "Load population dataset. The dataset is updated with 2020 data. \n",
    "It has been downloaded from:\n",
    "https://www.kaggle.com/tanuprabhu/population-by-country-2020.\n",
    "\n",
    "It is currently saved locally.\n",
    "The dataset contains for each country the number of inhabitants. This dataset is used later to plot covid-19 deaths and cases basing on number of inhabitants."
   ]
  },
  {
   "cell_type": "code",
   "execution_count": 3,
   "metadata": {},
   "outputs": [
    {
     "data": {
      "text/html": [
       "<div>\n",
       "<style scoped>\n",
       "    .dataframe tbody tr th:only-of-type {\n",
       "        vertical-align: middle;\n",
       "    }\n",
       "\n",
       "    .dataframe tbody tr th {\n",
       "        vertical-align: top;\n",
       "    }\n",
       "\n",
       "    .dataframe thead th {\n",
       "        text-align: right;\n",
       "    }\n",
       "</style>\n",
       "<table border=\"1\" class=\"dataframe\">\n",
       "  <thead>\n",
       "    <tr style=\"text-align: right;\">\n",
       "      <th></th>\n",
       "      <th>Country</th>\n",
       "      <th>Population</th>\n",
       "    </tr>\n",
       "  </thead>\n",
       "  <tbody>\n",
       "    <tr>\n",
       "      <td>0</td>\n",
       "      <td>China</td>\n",
       "      <td>1439323776</td>\n",
       "    </tr>\n",
       "    <tr>\n",
       "      <td>1</td>\n",
       "      <td>India</td>\n",
       "      <td>1380004385</td>\n",
       "    </tr>\n",
       "    <tr>\n",
       "      <td>2</td>\n",
       "      <td>United States</td>\n",
       "      <td>331002651</td>\n",
       "    </tr>\n",
       "    <tr>\n",
       "      <td>3</td>\n",
       "      <td>Indonesia</td>\n",
       "      <td>273523615</td>\n",
       "    </tr>\n",
       "    <tr>\n",
       "      <td>4</td>\n",
       "      <td>Pakistan</td>\n",
       "      <td>220892340</td>\n",
       "    </tr>\n",
       "  </tbody>\n",
       "</table>\n",
       "</div>"
      ],
      "text/plain": [
       "         Country  Population\n",
       "0          China  1439323776\n",
       "1          India  1380004385\n",
       "2  United States   331002651\n",
       "3      Indonesia   273523615\n",
       "4       Pakistan   220892340"
      ]
     },
     "execution_count": 3,
     "metadata": {},
     "output_type": "execute_result"
    }
   ],
   "source": [
    "#load population dataset keeping only the necessary columns \n",
    "#(countries and number of inhabitants) renaiming them\n",
    "df_population = pd.read_csv(\"../world_analysis/dataset/population_by_country_2020.csv\")\n",
    "df_population = df_population[['Country (or dependency)','Population (2020)']]\n",
    "df_population.drop_duplicates(inplace = True)\n",
    "df_population.rename(columns={\"Country (or dependency)\": \"Country\",\n",
    "                            \"Population (2020)\":\"Population\"}, inplace = True)\n",
    "df_population.head()"
   ]
  },
  {
   "cell_type": "markdown",
   "metadata": {},
   "source": [
    "Load lockdown dataset. The dataset has been downloaded from:\n",
    "https://www.kaggle.com/jcyzag/covid19-lockdown-dates-by-country#countryLockdowndates.csv.\n",
    "\n",
    "It is currently saved locally.\n",
    "It contains the following columns:\n",
    "<ul>\n",
    "<li>country</li>\n",
    "<li>province of the country</li>\n",
    "<li>date in which the lockdown has been put in place</li>\n",
    "<li>type of lockdown (full or partial)</li>\n",
    "<li>reference (source of the data).</li>\n",
    "</ul>\n",
    "\n",
    "The 'reference' column is dropped because it is not necessary during the analysis."
   ]
  },
  {
   "cell_type": "code",
   "execution_count": 70,
   "metadata": {},
   "outputs": [
    {
     "data": {
      "text/plain": [
       "305    True\n",
       "Name: Type, dtype: bool"
      ]
     },
     "execution_count": 70,
     "metadata": {},
     "output_type": "execute_result"
    }
   ],
   "source": [
    "#load lockdown dataset\n",
    "df_lockdown = pd.read_csv(\"../world_analysis/dataset/countryLockdowndates.csv\")\n",
    "#rename column relative to country\n",
    "df_lockdown.rename(columns={\"Country/Region\": \"Country\"}, inplace = True)\n",
    "#convert string date format from 'dd/mm/yyyy' to 'yyyy-mm-dd'\n",
    "df_lockdown['Date'] = pd.to_datetime(df_lockdown['Date'])\n",
    "#rename country value from 'US' to 'United States' where needed\n",
    "df_lockdown['Country'] = df_lockdown['Country'].apply(lambda x : 'United States' if x == 'US' else x)\n",
    "#delete 'Reference column'\n",
    "df_lockdown.drop('Reference', axis = 1, inplace = True)\n",
    "#if value in 'Province' column is not present, \n",
    "#replace it with value in 'Country' column\n",
    "df_lockdown.Province.fillna(df_lockdown.Country, inplace=True)\n",
    "df_lockdown.Date.fillna(0, inplace=True)\n",
    "df_lockdown.Type.fillna(0, inplace=True)\n",
    "d = df_lockdown[df_lockdown['Country'] == 'Zambia']\n",
    "d['Type'] == 'None'\n",
    "CONTINUARE DA QUA"
   ]
  },
  {
   "cell_type": "markdown",
   "metadata": {},
   "source": [
    "Load population density dataset. The dataset is downloaded from:\n",
    "https://www.kaggle.com/fernandol/countries-of-the-world#countries%20of%20the%20world.csv"
   ]
  },
  {
   "cell_type": "code",
   "execution_count": 57,
   "metadata": {},
   "outputs": [
    {
     "name": "stderr",
     "output_type": "stream",
     "text": [
      "C:\\Users\\pro48\\AppData\\Local\\Continuum\\anaconda3\\envs\\datascienceforbusiness\\lib\\site-packages\\ipykernel_launcher.py:6: SettingWithCopyWarning: \n",
      "A value is trying to be set on a copy of a slice from a DataFrame.\n",
      "Try using .loc[row_indexer,col_indexer] = value instead\n",
      "\n",
      "See the caveats in the documentation: http://pandas.pydata.org/pandas-docs/stable/user_guide/indexing.html#returning-a-view-versus-a-copy\n",
      "  \n"
     ]
    },
    {
     "data": {
      "text/html": [
       "<div>\n",
       "<style scoped>\n",
       "    .dataframe tbody tr th:only-of-type {\n",
       "        vertical-align: middle;\n",
       "    }\n",
       "\n",
       "    .dataframe tbody tr th {\n",
       "        vertical-align: top;\n",
       "    }\n",
       "\n",
       "    .dataframe thead th {\n",
       "        text-align: right;\n",
       "    }\n",
       "</style>\n",
       "<table border=\"1\" class=\"dataframe\">\n",
       "  <thead>\n",
       "    <tr style=\"text-align: right;\">\n",
       "      <th></th>\n",
       "      <th>Country</th>\n",
       "      <th>Population density</th>\n",
       "    </tr>\n",
       "  </thead>\n",
       "  <tbody>\n",
       "    <tr>\n",
       "      <td>0</td>\n",
       "      <td>Afghanistan</td>\n",
       "      <td>48.0</td>\n",
       "    </tr>\n",
       "    <tr>\n",
       "      <td>1</td>\n",
       "      <td>Albania</td>\n",
       "      <td>124.6</td>\n",
       "    </tr>\n",
       "    <tr>\n",
       "      <td>2</td>\n",
       "      <td>Algeria</td>\n",
       "      <td>13.8</td>\n",
       "    </tr>\n",
       "    <tr>\n",
       "      <td>3</td>\n",
       "      <td>American Samoa</td>\n",
       "      <td>290.4</td>\n",
       "    </tr>\n",
       "    <tr>\n",
       "      <td>4</td>\n",
       "      <td>Andorra</td>\n",
       "      <td>152.1</td>\n",
       "    </tr>\n",
       "  </tbody>\n",
       "</table>\n",
       "</div>"
      ],
      "text/plain": [
       "          Country  Population density\n",
       "0     Afghanistan                48.0\n",
       "1         Albania               124.6\n",
       "2         Algeria                13.8\n",
       "3  American Samoa               290.4\n",
       "4         Andorra               152.1"
      ]
     },
     "execution_count": 57,
     "metadata": {},
     "output_type": "execute_result"
    }
   ],
   "source": [
    "#load dataset\n",
    "df_population_density_ = pd.read_csv(\"../world_analysis/dataset/population_density.csv\")\n",
    "df_population_density = df_population_density_[['Country','Pop. Density (per sq. mi.)']]\n",
    "df_population_density.rename(columns = {'Pop. Density (per sq. mi.)': 'Population density'}, inplace = True)\n",
    "#trim country value because original dataset has a space at the end\n",
    "df_population_density['Country'] = df_population_density['Country'].apply(lambda x : x.strip())\n",
    "df_population_density.head()"
   ]
  },
  {
   "cell_type": "markdown",
   "metadata": {},
   "source": [
    "Merge coronavirus dataset and population dataset."
   ]
  },
  {
   "cell_type": "code",
   "execution_count": 58,
   "metadata": {},
   "outputs": [
    {
     "data": {
      "text/html": [
       "<div>\n",
       "<style scoped>\n",
       "    .dataframe tbody tr th:only-of-type {\n",
       "        vertical-align: middle;\n",
       "    }\n",
       "\n",
       "    .dataframe tbody tr th {\n",
       "        vertical-align: top;\n",
       "    }\n",
       "\n",
       "    .dataframe thead th {\n",
       "        text-align: right;\n",
       "    }\n",
       "</style>\n",
       "<table border=\"1\" class=\"dataframe\">\n",
       "  <thead>\n",
       "    <tr style=\"text-align: right;\">\n",
       "      <th></th>\n",
       "      <th>Date</th>\n",
       "      <th>Country</th>\n",
       "      <th>New cases</th>\n",
       "      <th>New deaths</th>\n",
       "      <th>Total cases</th>\n",
       "      <th>Total deaths</th>\n",
       "      <th>Population</th>\n",
       "      <th>Population density</th>\n",
       "    </tr>\n",
       "  </thead>\n",
       "  <tbody>\n",
       "    <tr>\n",
       "      <td>0</td>\n",
       "      <td>2019-12-31</td>\n",
       "      <td>Afghanistan</td>\n",
       "      <td>0</td>\n",
       "      <td>0</td>\n",
       "      <td>0</td>\n",
       "      <td>0</td>\n",
       "      <td>38928346</td>\n",
       "      <td>48.0</td>\n",
       "    </tr>\n",
       "    <tr>\n",
       "      <td>1</td>\n",
       "      <td>2020-01-01</td>\n",
       "      <td>Afghanistan</td>\n",
       "      <td>0</td>\n",
       "      <td>0</td>\n",
       "      <td>0</td>\n",
       "      <td>0</td>\n",
       "      <td>38928346</td>\n",
       "      <td>48.0</td>\n",
       "    </tr>\n",
       "    <tr>\n",
       "      <td>2</td>\n",
       "      <td>2020-01-02</td>\n",
       "      <td>Afghanistan</td>\n",
       "      <td>0</td>\n",
       "      <td>0</td>\n",
       "      <td>0</td>\n",
       "      <td>0</td>\n",
       "      <td>38928346</td>\n",
       "      <td>48.0</td>\n",
       "    </tr>\n",
       "    <tr>\n",
       "      <td>3</td>\n",
       "      <td>2020-01-03</td>\n",
       "      <td>Afghanistan</td>\n",
       "      <td>0</td>\n",
       "      <td>0</td>\n",
       "      <td>0</td>\n",
       "      <td>0</td>\n",
       "      <td>38928346</td>\n",
       "      <td>48.0</td>\n",
       "    </tr>\n",
       "    <tr>\n",
       "      <td>4</td>\n",
       "      <td>2020-01-04</td>\n",
       "      <td>Afghanistan</td>\n",
       "      <td>0</td>\n",
       "      <td>0</td>\n",
       "      <td>0</td>\n",
       "      <td>0</td>\n",
       "      <td>38928346</td>\n",
       "      <td>48.0</td>\n",
       "    </tr>\n",
       "  </tbody>\n",
       "</table>\n",
       "</div>"
      ],
      "text/plain": [
       "         Date      Country  New cases  New deaths  Total cases  Total deaths  \\\n",
       "0  2019-12-31  Afghanistan          0           0            0             0   \n",
       "1  2020-01-01  Afghanistan          0           0            0             0   \n",
       "2  2020-01-02  Afghanistan          0           0            0             0   \n",
       "3  2020-01-03  Afghanistan          0           0            0             0   \n",
       "4  2020-01-04  Afghanistan          0           0            0             0   \n",
       "\n",
       "   Population  Population density  \n",
       "0    38928346                48.0  \n",
       "1    38928346                48.0  \n",
       "2    38928346                48.0  \n",
       "3    38928346                48.0  \n",
       "4    38928346                48.0  "
      ]
     },
     "execution_count": 58,
     "metadata": {},
     "output_type": "execute_result"
    }
   ],
   "source": [
    "df_all_data = df_all_data_.copy()\n",
    "df_all_data = pd.merge (left = df_all_data, right = df_population, on = 'Country')\n",
    "df_all_data = pd.merge (left = df_all_data, right = df_population_density, on = 'Country')\n",
    "df_all_data.head()"
   ]
  },
  {
   "cell_type": "markdown",
   "metadata": {},
   "source": [
    "Evaluate number of cases and deaths per million of inhabitants and store the information in new columns of the full dataset."
   ]
  },
  {
   "cell_type": "code",
   "execution_count": 59,
   "metadata": {},
   "outputs": [
    {
     "data": {
      "text/html": [
       "<div>\n",
       "<style scoped>\n",
       "    .dataframe tbody tr th:only-of-type {\n",
       "        vertical-align: middle;\n",
       "    }\n",
       "\n",
       "    .dataframe tbody tr th {\n",
       "        vertical-align: top;\n",
       "    }\n",
       "\n",
       "    .dataframe thead th {\n",
       "        text-align: right;\n",
       "    }\n",
       "</style>\n",
       "<table border=\"1\" class=\"dataframe\">\n",
       "  <thead>\n",
       "    <tr style=\"text-align: right;\">\n",
       "      <th></th>\n",
       "      <th>Date</th>\n",
       "      <th>Country</th>\n",
       "      <th>New cases</th>\n",
       "      <th>New deaths</th>\n",
       "      <th>Total cases</th>\n",
       "      <th>Total deaths</th>\n",
       "      <th>Population</th>\n",
       "      <th>Population density</th>\n",
       "      <th>New cases per million of inhabitants</th>\n",
       "      <th>Total cases per million of inhabitants</th>\n",
       "      <th>New deaths per million of inhabitants</th>\n",
       "      <th>Total deaths per million of inhabitants</th>\n",
       "    </tr>\n",
       "  </thead>\n",
       "  <tbody>\n",
       "    <tr>\n",
       "      <td>10614</td>\n",
       "      <td>2020-04-16</td>\n",
       "      <td>Zimbabwe</td>\n",
       "      <td>6</td>\n",
       "      <td>0</td>\n",
       "      <td>23</td>\n",
       "      <td>3</td>\n",
       "      <td>14862924</td>\n",
       "      <td>31.3</td>\n",
       "      <td>0.403689</td>\n",
       "      <td>1.547475</td>\n",
       "      <td>0.0</td>\n",
       "      <td>0.201845</td>\n",
       "    </tr>\n",
       "    <tr>\n",
       "      <td>10615</td>\n",
       "      <td>2020-04-17</td>\n",
       "      <td>Zimbabwe</td>\n",
       "      <td>1</td>\n",
       "      <td>0</td>\n",
       "      <td>24</td>\n",
       "      <td>3</td>\n",
       "      <td>14862924</td>\n",
       "      <td>31.3</td>\n",
       "      <td>0.067282</td>\n",
       "      <td>1.614756</td>\n",
       "      <td>0.0</td>\n",
       "      <td>0.201845</td>\n",
       "    </tr>\n",
       "    <tr>\n",
       "      <td>10616</td>\n",
       "      <td>2020-04-18</td>\n",
       "      <td>Zimbabwe</td>\n",
       "      <td>0</td>\n",
       "      <td>0</td>\n",
       "      <td>24</td>\n",
       "      <td>3</td>\n",
       "      <td>14862924</td>\n",
       "      <td>31.3</td>\n",
       "      <td>0.000000</td>\n",
       "      <td>1.614756</td>\n",
       "      <td>0.0</td>\n",
       "      <td>0.201845</td>\n",
       "    </tr>\n",
       "    <tr>\n",
       "      <td>10617</td>\n",
       "      <td>2020-04-19</td>\n",
       "      <td>Zimbabwe</td>\n",
       "      <td>1</td>\n",
       "      <td>0</td>\n",
       "      <td>25</td>\n",
       "      <td>3</td>\n",
       "      <td>14862924</td>\n",
       "      <td>31.3</td>\n",
       "      <td>0.067282</td>\n",
       "      <td>1.682038</td>\n",
       "      <td>0.0</td>\n",
       "      <td>0.201845</td>\n",
       "    </tr>\n",
       "    <tr>\n",
       "      <td>10618</td>\n",
       "      <td>2020-04-20</td>\n",
       "      <td>Zimbabwe</td>\n",
       "      <td>0</td>\n",
       "      <td>0</td>\n",
       "      <td>25</td>\n",
       "      <td>3</td>\n",
       "      <td>14862924</td>\n",
       "      <td>31.3</td>\n",
       "      <td>0.000000</td>\n",
       "      <td>1.682038</td>\n",
       "      <td>0.0</td>\n",
       "      <td>0.201845</td>\n",
       "    </tr>\n",
       "  </tbody>\n",
       "</table>\n",
       "</div>"
      ],
      "text/plain": [
       "             Date   Country  New cases  New deaths  Total cases  Total deaths  \\\n",
       "10614  2020-04-16  Zimbabwe          6           0           23             3   \n",
       "10615  2020-04-17  Zimbabwe          1           0           24             3   \n",
       "10616  2020-04-18  Zimbabwe          0           0           24             3   \n",
       "10617  2020-04-19  Zimbabwe          1           0           25             3   \n",
       "10618  2020-04-20  Zimbabwe          0           0           25             3   \n",
       "\n",
       "       Population  Population density  New cases per million of inhabitants  \\\n",
       "10614    14862924                31.3                              0.403689   \n",
       "10615    14862924                31.3                              0.067282   \n",
       "10616    14862924                31.3                              0.000000   \n",
       "10617    14862924                31.3                              0.067282   \n",
       "10618    14862924                31.3                              0.000000   \n",
       "\n",
       "       Total cases per million of inhabitants  \\\n",
       "10614                                1.547475   \n",
       "10615                                1.614756   \n",
       "10616                                1.614756   \n",
       "10617                                1.682038   \n",
       "10618                                1.682038   \n",
       "\n",
       "       New deaths per million of inhabitants  \\\n",
       "10614                                    0.0   \n",
       "10615                                    0.0   \n",
       "10616                                    0.0   \n",
       "10617                                    0.0   \n",
       "10618                                    0.0   \n",
       "\n",
       "       Total deaths per million of inhabitants  \n",
       "10614                                 0.201845  \n",
       "10615                                 0.201845  \n",
       "10616                                 0.201845  \n",
       "10617                                 0.201845  \n",
       "10618                                 0.201845  "
      ]
     },
     "execution_count": 59,
     "metadata": {},
     "output_type": "execute_result"
    }
   ],
   "source": [
    "df_all_data = evaluateRatePerNumberOfMillion(df_all_data, 'New cases',\n",
    "                                            'New cases per million of inhabitants')\n",
    "df_all_data = evaluateRatePerNumberOfMillion(df_all_data, 'Total cases',\n",
    "                                            'Total cases per million of inhabitants')\n",
    "df_all_data = evaluateRatePerNumberOfMillion(df_all_data, 'New deaths',\n",
    "                                            'New deaths per million of inhabitants')\n",
    "df_all_data = evaluateRatePerNumberOfMillion(df_all_data, 'Total deaths',\n",
    "                                            'Total deaths per million of inhabitants')\n",
    "df_all_data.tail()"
   ]
  },
  {
   "cell_type": "markdown",
   "metadata": {},
   "source": [
    "Add lockdown information in the full dataset. For each row, create a new column where if in the country for that date was not present the lockdown, the value is set to 0, if the lockdown is partial set a value of 1, if the lockdown is full set the value to 2. \n",
    "But first, because for some country, in the lockdown dataset there is a vision by province, it is necessary to merge in someway the dataset."
   ]
  },
  {
   "cell_type": "markdown",
   "metadata": {},
   "source": [
    "First, print the country to merge."
   ]
  },
  {
   "cell_type": "code",
   "execution_count": 61,
   "metadata": {},
   "outputs": [
    {
     "data": {
      "text/html": [
       "<div>\n",
       "<style scoped>\n",
       "    .dataframe tbody tr th:only-of-type {\n",
       "        vertical-align: middle;\n",
       "    }\n",
       "\n",
       "    .dataframe tbody tr th {\n",
       "        vertical-align: top;\n",
       "    }\n",
       "\n",
       "    .dataframe thead th {\n",
       "        text-align: right;\n",
       "    }\n",
       "</style>\n",
       "<table border=\"1\" class=\"dataframe\">\n",
       "  <thead>\n",
       "    <tr style=\"text-align: right;\">\n",
       "      <th></th>\n",
       "      <th>Country</th>\n",
       "      <th>Province</th>\n",
       "      <th>Date</th>\n",
       "      <th>Type</th>\n",
       "    </tr>\n",
       "  </thead>\n",
       "  <tbody>\n",
       "    <tr>\n",
       "      <td>0</td>\n",
       "      <td>Afghanistan</td>\n",
       "      <td>Afghanistan</td>\n",
       "      <td>2020-03-24</td>\n",
       "      <td>Full</td>\n",
       "    </tr>\n",
       "    <tr>\n",
       "      <td>1</td>\n",
       "      <td>Albania</td>\n",
       "      <td>Albania</td>\n",
       "      <td>2020-08-03</td>\n",
       "      <td>Full</td>\n",
       "    </tr>\n",
       "    <tr>\n",
       "      <td>2</td>\n",
       "      <td>Algeria</td>\n",
       "      <td>Algeria</td>\n",
       "      <td>2020-03-24</td>\n",
       "      <td>Full</td>\n",
       "    </tr>\n",
       "    <tr>\n",
       "      <td>3</td>\n",
       "      <td>Andorra</td>\n",
       "      <td>Andorra</td>\n",
       "      <td>2020-03-16</td>\n",
       "      <td>Full</td>\n",
       "    </tr>\n",
       "    <tr>\n",
       "      <td>4</td>\n",
       "      <td>Angola</td>\n",
       "      <td>Angola</td>\n",
       "      <td>2020-03-24</td>\n",
       "      <td>Full</td>\n",
       "    </tr>\n",
       "  </tbody>\n",
       "</table>\n",
       "</div>"
      ],
      "text/plain": [
       "       Country     Province       Date  Type\n",
       "0  Afghanistan  Afghanistan 2020-03-24  Full\n",
       "1      Albania      Albania 2020-08-03  Full\n",
       "2      Algeria      Algeria 2020-03-24  Full\n",
       "3      Andorra      Andorra 2020-03-16  Full\n",
       "4       Angola       Angola 2020-03-24  Full"
      ]
     },
     "execution_count": 61,
     "metadata": {},
     "output_type": "execute_result"
    }
   ],
   "source": [
    "df_lockdown.head()\n"
   ]
  },
  {
   "cell_type": "markdown",
   "metadata": {},
   "source": [
    "# Data visualization"
   ]
  },
  {
   "cell_type": "markdown",
   "metadata": {},
   "source": [
    "## Analysis by country without considering the number of inhabitants"
   ]
  },
  {
   "cell_type": "markdown",
   "metadata": {},
   "source": [
    "Firstly, it would be interesting to compare the growth about the number of deaths and cases of some countries starting from a specific point, meant as a common starting point, for a better comparison. Next steps are used to estabilish which is the starting point.\n",
    "\n",
    "In the first step it is necessary to retrieve what the top ten countries for number of deaths are."
   ]
  },
  {
   "cell_type": "code",
   "execution_count": 7,
   "metadata": {
    "scrolled": true
   },
   "outputs": [
    {
     "name": "stdout",
     "output_type": "stream",
     "text": [
      "World number of deaths: 164324\n",
      "\n"
     ]
    },
    {
     "data": {
      "text/html": [
       "<div>\n",
       "<style scoped>\n",
       "    .dataframe tbody tr th:only-of-type {\n",
       "        vertical-align: middle;\n",
       "    }\n",
       "\n",
       "    .dataframe tbody tr th {\n",
       "        vertical-align: top;\n",
       "    }\n",
       "\n",
       "    .dataframe thead th {\n",
       "        text-align: right;\n",
       "    }\n",
       "</style>\n",
       "<table border=\"1\" class=\"dataframe\">\n",
       "  <thead>\n",
       "    <tr style=\"text-align: right;\">\n",
       "      <th></th>\n",
       "      <th>Country</th>\n",
       "      <th>Total deaths</th>\n",
       "    </tr>\n",
       "  </thead>\n",
       "  <tbody>\n",
       "    <tr>\n",
       "      <td>0</td>\n",
       "      <td>United States</td>\n",
       "      <td>40682</td>\n",
       "    </tr>\n",
       "    <tr>\n",
       "      <td>1</td>\n",
       "      <td>Italy</td>\n",
       "      <td>23660</td>\n",
       "    </tr>\n",
       "    <tr>\n",
       "      <td>2</td>\n",
       "      <td>Spain</td>\n",
       "      <td>20453</td>\n",
       "    </tr>\n",
       "    <tr>\n",
       "      <td>3</td>\n",
       "      <td>France</td>\n",
       "      <td>19718</td>\n",
       "    </tr>\n",
       "    <tr>\n",
       "      <td>4</td>\n",
       "      <td>United Kingdom</td>\n",
       "      <td>16060</td>\n",
       "    </tr>\n",
       "    <tr>\n",
       "      <td>5</td>\n",
       "      <td>Belgium</td>\n",
       "      <td>5683</td>\n",
       "    </tr>\n",
       "    <tr>\n",
       "      <td>6</td>\n",
       "      <td>Iran</td>\n",
       "      <td>5118</td>\n",
       "    </tr>\n",
       "    <tr>\n",
       "      <td>7</td>\n",
       "      <td>China</td>\n",
       "      <td>4636</td>\n",
       "    </tr>\n",
       "    <tr>\n",
       "      <td>8</td>\n",
       "      <td>Germany</td>\n",
       "      <td>4404</td>\n",
       "    </tr>\n",
       "    <tr>\n",
       "      <td>9</td>\n",
       "      <td>Netherlands</td>\n",
       "      <td>3684</td>\n",
       "    </tr>\n",
       "  </tbody>\n",
       "</table>\n",
       "</div>"
      ],
      "text/plain": [
       "          Country  Total deaths\n",
       "0   United States         40682\n",
       "1           Italy         23660\n",
       "2           Spain         20453\n",
       "3          France         19718\n",
       "4  United Kingdom         16060\n",
       "5         Belgium          5683\n",
       "6            Iran          5118\n",
       "7           China          4636\n",
       "8         Germany          4404\n",
       "9     Netherlands          3684"
      ]
     },
     "execution_count": 7,
     "metadata": {},
     "output_type": "execute_result"
    }
   ],
   "source": [
    "#create a copy of the dataset keeping the necessary columns\n",
    "df_total_deaths = df_all_data[['Country','Total deaths']].copy()\n",
    "#get the maximum value of each country and sort the data in descendent way\n",
    "df_group_total_deaths = df_total_deaths.groupby('Country').max()\n",
    "df_group_total_deaths.sort_values(by = 'Total deaths',ascending = False, inplace = True)\n",
    "#loc the first 10 rows\n",
    "top_10_total_deaths = df_group_total_deaths.iloc[0:10]\n",
    "top_10_total_deaths.reset_index(inplace = True)\n",
    "#print data of all the world deaths\n",
    "print(\"World number of deaths:\", df_group_total_deaths['Total deaths'].sum(), end =\"\\n\\n\")\n",
    "top_10_total_deaths"
   ]
  },
  {
   "cell_type": "markdown",
   "metadata": {},
   "source": [
    "Plot the total number of deaths, day by day, of the top 10 countries, focusing on a range between 0 and 200 cases."
   ]
  },
  {
   "cell_type": "code",
   "execution_count": 8,
   "metadata": {},
   "outputs": [
    {
     "data": {
      "image/png": "[encoded data removed]",
      "text/plain": [
       "<Figure size 432x288 with 1 Axes>"
      ]
     },
     "metadata": {
      "needs_background": "light"
     },
     "output_type": "display_data"
    }
   ],
   "source": [
    "#plot the graph\n",
    "plotGrowthDataFromFirstCases(df_total_deaths, top_10_total_deaths['Country'], 'Total deaths',\n",
    "                            'Top 10 countries total deaths growth',\n",
    "                            0, 200)"
   ]
  },
  {
   "cell_type": "markdown",
   "metadata": {},
   "source": [
    "It is possible to set the starting point to 50 deaths, and this will be the common starting point for comparing the data."
   ]
  },
  {
   "cell_type": "markdown",
   "metadata": {},
   "source": [
    "Print data of the top 10 countries for number of deaths and plot the growth starting from the first 50 confirmed deaths."
   ]
  },
  {
   "cell_type": "code",
   "execution_count": 9,
   "metadata": {},
   "outputs": [
    {
     "data": {
      "image/png": "[encoded data removed]",
      "text/plain": [
       "<Figure size 432x288 with 1 Axes>"
      ]
     },
     "metadata": {
      "needs_background": "light"
     },
     "output_type": "display_data"
    }
   ],
   "source": [
    "#plot the graph\n",
    "plotGrowthDataFromFirstCases(df_total_deaths, top_10_total_deaths['Country'], 'Total deaths',\n",
    "                            'Top 10 countries total deaths growth starting from the first 50 deaths',\n",
    "                            50)"
   ]
  },
  {
   "cell_type": "markdown",
   "metadata": {},
   "source": [
    "The same procedure is used for confirmed cases.\n",
    "\n",
    "First, retrieve information about top 10 countries for total number of cases."
   ]
  },
  {
   "cell_type": "code",
   "execution_count": 10,
   "metadata": {},
   "outputs": [
    {
     "name": "stdout",
     "output_type": "stream",
     "text": [
      "World number of cases: 2344373\n",
      "\n"
     ]
    },
    {
     "data": {
      "text/html": [
       "<div>\n",
       "<style scoped>\n",
       "    .dataframe tbody tr th:only-of-type {\n",
       "        vertical-align: middle;\n",
       "    }\n",
       "\n",
       "    .dataframe tbody tr th {\n",
       "        vertical-align: top;\n",
       "    }\n",
       "\n",
       "    .dataframe thead th {\n",
       "        text-align: right;\n",
       "    }\n",
       "</style>\n",
       "<table border=\"1\" class=\"dataframe\">\n",
       "  <thead>\n",
       "    <tr style=\"text-align: right;\">\n",
       "      <th></th>\n",
       "      <th>Country</th>\n",
       "      <th>Total cases</th>\n",
       "    </tr>\n",
       "  </thead>\n",
       "  <tbody>\n",
       "    <tr>\n",
       "      <td>0</td>\n",
       "      <td>United States</td>\n",
       "      <td>759687</td>\n",
       "    </tr>\n",
       "    <tr>\n",
       "      <td>1</td>\n",
       "      <td>Spain</td>\n",
       "      <td>195944</td>\n",
       "    </tr>\n",
       "    <tr>\n",
       "      <td>2</td>\n",
       "      <td>Italy</td>\n",
       "      <td>178972</td>\n",
       "    </tr>\n",
       "    <tr>\n",
       "      <td>3</td>\n",
       "      <td>Germany</td>\n",
       "      <td>141672</td>\n",
       "    </tr>\n",
       "    <tr>\n",
       "      <td>4</td>\n",
       "      <td>United Kingdom</td>\n",
       "      <td>120067</td>\n",
       "    </tr>\n",
       "    <tr>\n",
       "      <td>5</td>\n",
       "      <td>France</td>\n",
       "      <td>112606</td>\n",
       "    </tr>\n",
       "    <tr>\n",
       "      <td>6</td>\n",
       "      <td>Turkey</td>\n",
       "      <td>86306</td>\n",
       "    </tr>\n",
       "    <tr>\n",
       "      <td>7</td>\n",
       "      <td>China</td>\n",
       "      <td>83817</td>\n",
       "    </tr>\n",
       "    <tr>\n",
       "      <td>8</td>\n",
       "      <td>Iran</td>\n",
       "      <td>82211</td>\n",
       "    </tr>\n",
       "    <tr>\n",
       "      <td>9</td>\n",
       "      <td>Russia</td>\n",
       "      <td>42853</td>\n",
       "    </tr>\n",
       "  </tbody>\n",
       "</table>\n",
       "</div>"
      ],
      "text/plain": [
       "          Country  Total cases\n",
       "0   United States       759687\n",
       "1           Spain       195944\n",
       "2           Italy       178972\n",
       "3         Germany       141672\n",
       "4  United Kingdom       120067\n",
       "5          France       112606\n",
       "6          Turkey        86306\n",
       "7           China        83817\n",
       "8            Iran        82211\n",
       "9          Russia        42853"
      ]
     },
     "execution_count": 10,
     "metadata": {},
     "output_type": "execute_result"
    }
   ],
   "source": [
    "#create a copy of the dataset keeping the necessary columns\n",
    "df_total_cases = df_all_data[['Country','Total cases']].copy()\n",
    "#get the maximum value of each country and sort the data in descendent way\n",
    "df_group_total_cases = df_total_cases.groupby('Country').max()\n",
    "df_group_total_cases.sort_values(by = 'Total cases',ascending = False, inplace = True)\n",
    "#loc the first 10 rows\n",
    "top_10_total_cases = df_group_total_cases.iloc[0:10]\n",
    "top_10_total_cases.reset_index(inplace = True)\n",
    "#print data of all the world deaths\n",
    "print(\"World number of cases:\", df_group_total_cases['Total cases'].sum(), end =\"\\n\\n\")\n",
    "top_10_total_cases"
   ]
  },
  {
   "cell_type": "markdown",
   "metadata": {},
   "source": [
    "Plot the total number of cases, day by day, of the top 10 countries, focusing on a range between 0 and 200 cases."
   ]
  },
  {
   "cell_type": "code",
   "execution_count": 11,
   "metadata": {},
   "outputs": [
    {
     "data": {
      "image/png": "[encoded data removed]",
      "text/plain": [
       "<Figure size 432x288 with 1 Axes>"
      ]
     },
     "metadata": {
      "needs_background": "light"
     },
     "output_type": "display_data"
    }
   ],
   "source": [
    "#plot the graph\n",
    "plotGrowthDataFromFirstCases(df_total_cases, top_10_total_cases['Country'], 'Total cases',\n",
    "                            'Top 10 countries total cases growth',\n",
    "                            0, 200)"
   ]
  },
  {
   "cell_type": "markdown",
   "metadata": {},
   "source": [
    "Because of a stabilization period in China around about 60 cases, this time, the starting point is set to 75 cases."
   ]
  },
  {
   "cell_type": "markdown",
   "metadata": {},
   "source": [
    "Print data of the top 10 countries for number of cases and plot the growth starting from the first 75 confirmed case."
   ]
  },
  {
   "cell_type": "code",
   "execution_count": 12,
   "metadata": {},
   "outputs": [
    {
     "data": {
      "image/png": "[encoded data removed]",
      "text/plain": [
       "<Figure size 432x288 with 1 Axes>"
      ]
     },
     "metadata": {
      "needs_background": "light"
     },
     "output_type": "display_data"
    }
   ],
   "source": [
    "#plot the graph\n",
    "plotGrowthDataFromFirstCases(df_total_cases, top_10_total_cases['Country'],'Total cases',\n",
    "                            'Top 10 countries total cases growth starting from the first 75 cases',\n",
    "                            75)"
   ]
  },
  {
   "cell_type": "markdown",
   "metadata": {},
   "source": [
    "## Analysis by country considering the number of inhabitants"
   ]
  },
  {
   "cell_type": "markdown",
   "metadata": {},
   "source": [
    "As done before, firstly, print data of top ten countries for total deaths."
   ]
  },
  {
   "cell_type": "code",
   "execution_count": 13,
   "metadata": {},
   "outputs": [
    {
     "data": {
      "text/html": [
       "<div>\n",
       "<style scoped>\n",
       "    .dataframe tbody tr th:only-of-type {\n",
       "        vertical-align: middle;\n",
       "    }\n",
       "\n",
       "    .dataframe tbody tr th {\n",
       "        vertical-align: top;\n",
       "    }\n",
       "\n",
       "    .dataframe thead th {\n",
       "        text-align: right;\n",
       "    }\n",
       "</style>\n",
       "<table border=\"1\" class=\"dataframe\">\n",
       "  <thead>\n",
       "    <tr style=\"text-align: right;\">\n",
       "      <th></th>\n",
       "      <th>Country</th>\n",
       "      <th>Total deaths per million of inhabitants</th>\n",
       "    </tr>\n",
       "  </thead>\n",
       "  <tbody>\n",
       "    <tr>\n",
       "      <td>0</td>\n",
       "      <td>San Marino</td>\n",
       "      <td>1149.391412</td>\n",
       "    </tr>\n",
       "    <tr>\n",
       "      <td>1</td>\n",
       "      <td>Belgium</td>\n",
       "      <td>490.352447</td>\n",
       "    </tr>\n",
       "    <tr>\n",
       "      <td>2</td>\n",
       "      <td>Andorra</td>\n",
       "      <td>465.928946</td>\n",
       "    </tr>\n",
       "    <tr>\n",
       "      <td>3</td>\n",
       "      <td>Spain</td>\n",
       "      <td>437.452617</td>\n",
       "    </tr>\n",
       "    <tr>\n",
       "      <td>4</td>\n",
       "      <td>Italy</td>\n",
       "      <td>391.321294</td>\n",
       "    </tr>\n",
       "    <tr>\n",
       "      <td>5</td>\n",
       "      <td>France</td>\n",
       "      <td>302.082724</td>\n",
       "    </tr>\n",
       "    <tr>\n",
       "      <td>6</td>\n",
       "      <td>United Kingdom</td>\n",
       "      <td>236.573040</td>\n",
       "    </tr>\n",
       "    <tr>\n",
       "      <td>7</td>\n",
       "      <td>Netherlands</td>\n",
       "      <td>215.000147</td>\n",
       "    </tr>\n",
       "    <tr>\n",
       "      <td>8</td>\n",
       "      <td>Sweden</td>\n",
       "      <td>152.486344</td>\n",
       "    </tr>\n",
       "    <tr>\n",
       "      <td>9</td>\n",
       "      <td>Switzerland</td>\n",
       "      <td>131.028253</td>\n",
       "    </tr>\n",
       "  </tbody>\n",
       "</table>\n",
       "</div>"
      ],
      "text/plain": [
       "          Country  Total deaths per million of inhabitants\n",
       "0      San Marino                              1149.391412\n",
       "1         Belgium                               490.352447\n",
       "2         Andorra                               465.928946\n",
       "3           Spain                               437.452617\n",
       "4           Italy                               391.321294\n",
       "5          France                               302.082724\n",
       "6  United Kingdom                               236.573040\n",
       "7     Netherlands                               215.000147\n",
       "8          Sweden                               152.486344\n",
       "9     Switzerland                               131.028253"
      ]
     },
     "execution_count": 13,
     "metadata": {},
     "output_type": "execute_result"
    }
   ],
   "source": [
    "#create a copy of the dataset\n",
    "df_total_deaths_x_million = df_all_data[['Country',\n",
    "                                         'Total deaths per million of inhabitants']].copy()\n",
    "\n",
    "#get the maximum value of each country and sort the data in descendent way\n",
    "df_group_total_deaths_x_million = df_total_deaths_x_million.groupby('Country').max()\n",
    "df_group_total_deaths_x_million.sort_values(by = 'Total deaths per million of inhabitants',ascending = False, inplace = True)\n",
    "\n",
    "\n",
    "#loc the first 10 rows\n",
    "top_10_total_deaths_x_million = df_group_total_deaths_x_million.iloc[0:10]\n",
    "top_10_total_deaths_x_million.reset_index(inplace = True)\n",
    "top_10_total_deaths_x_million"
   ]
  },
  {
   "cell_type": "markdown",
   "metadata": {},
   "source": [
    "Plot data day by day of the top 10 countries to try to detect a common starting point for comparing the growth focusing on a range between 0 and 20 cases per million of inhabitants."
   ]
  },
  {
   "cell_type": "code",
   "execution_count": 14,
   "metadata": {},
   "outputs": [
    {
     "data": {
      "image/png": "[encoded data removed]",
      "text/plain": [
       "<Figure size 432x288 with 1 Axes>"
      ]
     },
     "metadata": {
      "needs_background": "light"
     },
     "output_type": "display_data"
    }
   ],
   "source": [
    "#plot the graph\n",
    "plotGrowthDataFromFirstCases(df_total_deaths_x_million, top_10_total_deaths_x_million['Country'], \n",
    "                            'Total deaths per million of inhabitants',\n",
    "                            'Top 10 countries total deaths growth (per million)',\n",
    "                            0, 20)"
   ]
  },
  {
   "cell_type": "markdown",
   "metadata": {},
   "source": [
    "For some countries, such as Andorra and San Marino, there is not a slow growth but it has a very fast increase. A part these, it is possible to consider, as a common starting point, a value of 2.5."
   ]
  },
  {
   "cell_type": "markdown",
   "metadata": {},
   "source": [
    "Plot the growth starting from the point where the rate was upper than 2.5."
   ]
  },
  {
   "cell_type": "code",
   "execution_count": 15,
   "metadata": {},
   "outputs": [
    {
     "data": {
      "image/png": "[encoded data removed]",
      "text/plain": [
       "<Figure size 432x288 with 1 Axes>"
      ]
     },
     "metadata": {
      "needs_background": "light"
     },
     "output_type": "display_data"
    }
   ],
   "source": [
    "#plot the graph\n",
    "plotGrowthDataFromFirstCases(df_total_deaths_x_million, top_10_total_deaths_x_million['Country'], \n",
    "                            'Total deaths per million of inhabitants',\n",
    "                            'Top 10 countries total deaths growth starting from the first 2.5 deaths (per million)',\n",
    "                            2.5)"
   ]
  },
  {
   "cell_type": "markdown",
   "metadata": {},
   "source": [
    "The growth is almost linear for the top 10 countries."
   ]
  },
  {
   "cell_type": "markdown",
   "metadata": {},
   "source": [
    "Print data of the top 10 countries for number of cases per million"
   ]
  },
  {
   "cell_type": "code",
   "execution_count": 16,
   "metadata": {},
   "outputs": [
    {
     "data": {
      "text/html": [
       "<div>\n",
       "<style scoped>\n",
       "    .dataframe tbody tr th:only-of-type {\n",
       "        vertical-align: middle;\n",
       "    }\n",
       "\n",
       "    .dataframe tbody tr th {\n",
       "        vertical-align: top;\n",
       "    }\n",
       "\n",
       "    .dataframe thead th {\n",
       "        text-align: right;\n",
       "    }\n",
       "</style>\n",
       "<table border=\"1\" class=\"dataframe\">\n",
       "  <thead>\n",
       "    <tr style=\"text-align: right;\">\n",
       "      <th></th>\n",
       "      <th>Country</th>\n",
       "      <th>Total cases per million of inhabitants</th>\n",
       "    </tr>\n",
       "  </thead>\n",
       "  <tbody>\n",
       "    <tr>\n",
       "      <td>0</td>\n",
       "      <td>San Marino</td>\n",
       "      <td>13586.395921</td>\n",
       "    </tr>\n",
       "    <tr>\n",
       "      <td>1</td>\n",
       "      <td>Andorra</td>\n",
       "      <td>9227.981622</td>\n",
       "    </tr>\n",
       "    <tr>\n",
       "      <td>2</td>\n",
       "      <td>Luxembourg</td>\n",
       "      <td>5671.125822</td>\n",
       "    </tr>\n",
       "    <tr>\n",
       "      <td>3</td>\n",
       "      <td>Iceland</td>\n",
       "      <td>5189.850048</td>\n",
       "    </tr>\n",
       "    <tr>\n",
       "      <td>4</td>\n",
       "      <td>Spain</td>\n",
       "      <td>4190.887186</td>\n",
       "    </tr>\n",
       "    <tr>\n",
       "      <td>5</td>\n",
       "      <td>Gibraltar</td>\n",
       "      <td>3947.641803</td>\n",
       "    </tr>\n",
       "    <tr>\n",
       "      <td>6</td>\n",
       "      <td>Faeroe Islands</td>\n",
       "      <td>3786.095819</td>\n",
       "    </tr>\n",
       "    <tr>\n",
       "      <td>7</td>\n",
       "      <td>Isle of Man</td>\n",
       "      <td>3504.521774</td>\n",
       "    </tr>\n",
       "    <tr>\n",
       "      <td>8</td>\n",
       "      <td>Belgium</td>\n",
       "      <td>3321.592083</td>\n",
       "    </tr>\n",
       "    <tr>\n",
       "      <td>9</td>\n",
       "      <td>Switzerland</td>\n",
       "      <td>3195.749046</td>\n",
       "    </tr>\n",
       "  </tbody>\n",
       "</table>\n",
       "</div>"
      ],
      "text/plain": [
       "          Country  Total cases per million of inhabitants\n",
       "0      San Marino                            13586.395921\n",
       "1         Andorra                             9227.981622\n",
       "2      Luxembourg                             5671.125822\n",
       "3         Iceland                             5189.850048\n",
       "4           Spain                             4190.887186\n",
       "5       Gibraltar                             3947.641803\n",
       "6  Faeroe Islands                             3786.095819\n",
       "7     Isle of Man                             3504.521774\n",
       "8         Belgium                             3321.592083\n",
       "9     Switzerland                             3195.749046"
      ]
     },
     "execution_count": 16,
     "metadata": {},
     "output_type": "execute_result"
    }
   ],
   "source": [
    "#create a copy of the dataset\n",
    "df_total_cases_x_million = df_all_data[['Country',\n",
    "                                         'Total cases per million of inhabitants']].copy()\n",
    "\n",
    "\n",
    "#get the maximum value of each country and sort the data in descendent way\n",
    "df_group_total_cases_x_million = df_total_cases_x_million.groupby('Country').max()\n",
    "df_group_total_cases_x_million.sort_values(by = 'Total cases per million of inhabitants',ascending = False, inplace = True)\n",
    "#loc the first 10 rows\n",
    "top_10_total_cases_x_million = df_group_total_cases_x_million.iloc[0:10]\n",
    "top_10_total_cases_x_million.reset_index(inplace = True)\n",
    "top_10_total_cases_x_million"
   ]
  },
  {
   "cell_type": "markdown",
   "metadata": {},
   "source": [
    "As done before, plot the growth to detect a common starting point for comparison focusing on a range between 0 and 20 cases per million of inhabitants."
   ]
  },
  {
   "cell_type": "code",
   "execution_count": 17,
   "metadata": {},
   "outputs": [
    {
     "data": {
      "image/png": "[encoded data removed]",
      "text/plain": [
       "<Figure size 432x288 with 1 Axes>"
      ]
     },
     "metadata": {
      "needs_background": "light"
     },
     "output_type": "display_data"
    }
   ],
   "source": [
    "#plot the graph\n",
    "plotGrowthDataFromFirstCases(df_total_cases_x_million, top_10_total_cases_x_million['Country'], \n",
    "                            'Total cases per million of inhabitants',\n",
    "                            'Top 10 countries total cases growth (per million)',\n",
    "                            0, 20)"
   ]
  },
  {
   "cell_type": "markdown",
   "metadata": {},
   "source": [
    "The growth increase very fast. A common starting point for comparison could be 2.5 cases per million of inhabitants."
   ]
  },
  {
   "cell_type": "markdown",
   "metadata": {},
   "source": [
    "Plot the growth starting from the point where the rate was upper than 2.5 cases per million of inhabitants."
   ]
  },
  {
   "cell_type": "code",
   "execution_count": 18,
   "metadata": {},
   "outputs": [
    {
     "data": {
      "image/png": "[encoded data removed]",
      "text/plain": [
       "<Figure size 432x288 with 1 Axes>"
      ]
     },
     "metadata": {
      "needs_background": "light"
     },
     "output_type": "display_data"
    }
   ],
   "source": [
    "#plot the graph\n",
    "plotGrowthDataFromFirstCases(df_total_cases_x_million, top_10_total_cases_x_million['Country'], \n",
    "                            'Total cases per million of inhabitants',\n",
    "                            'Top 10 countries total cases growth starting from the first 2.5 cases (per million)',\n",
    "                            2.5)"
   ]
  },
  {
   "cell_type": "markdown",
   "metadata": {},
   "source": [
    "It is interesting to see how small countries have a higher concentration of deaths and cases. This data highlights that the virus is present principally in some parts of each country. To demonstrate this opinion let's try to see the same data about big countries, such as China and USA."
   ]
  },
  {
   "cell_type": "code",
   "execution_count": 19,
   "metadata": {},
   "outputs": [
    {
     "name": "stdout",
     "output_type": "stream",
     "text": [
      "Total deaths per million:\n",
      "China: 3.2209570058543937\n",
      "United States: 122.90536005404984\n",
      "Mean of the top 10 countries: 397.16172245391135\n",
      "\n",
      "Total cases per million:\n",
      "China: 58.23359649691495\n",
      "United States: 2295.108506547883\n",
      "Mean of the top 10 countries: 5562.184112436982\n"
     ]
    }
   ],
   "source": [
    "df_total_deaths_x_million_ = df_total_deaths_x_million.copy()\n",
    "df_total_deaths_x_million_.set_index('Country', inplace = True)\n",
    "print('Total deaths per million:')\n",
    "print('China:',df_total_deaths_x_million_.loc['China'].values.max())\n",
    "print('United States:',df_total_deaths_x_million_.loc['United States'].values.max())\n",
    "print('Mean of the top 10 countries:',top_10_total_deaths_x_million['Total deaths per million of inhabitants'].mean())\n",
    "df_total_cases_x_million_ = df_total_cases_x_million.copy()\n",
    "df_total_cases_x_million_.set_index('Country', inplace = True)\n",
    "print('\\nTotal cases per million:')\n",
    "print('China:',df_total_cases_x_million_.loc['China'].values.max())\n",
    "print('United States:',df_total_cases_x_million_.loc['United States'].values.max())\n",
    "print('Mean of the top 10 countries:',top_10_total_cases_x_million['Total cases per million of inhabitants'].mean())\n"
   ]
  },
  {
   "cell_type": "markdown",
   "metadata": {},
   "source": [
    "These final data demonstrate the previous consideration."
   ]
  },
  {
   "cell_type": "markdown",
   "metadata": {},
   "source": [
    "## Focus on the number of new deaths an new cases."
   ]
  },
  {
   "cell_type": "markdown",
   "metadata": {},
   "source": [
    "Print data of the top ten day/country for new deaths"
   ]
  },
  {
   "cell_type": "code",
   "execution_count": 20,
   "metadata": {},
   "outputs": [
    {
     "data": {
      "text/html": [
       "<div>\n",
       "<style scoped>\n",
       "    .dataframe tbody tr th:only-of-type {\n",
       "        vertical-align: middle;\n",
       "    }\n",
       "\n",
       "    .dataframe tbody tr th {\n",
       "        vertical-align: top;\n",
       "    }\n",
       "\n",
       "    .dataframe thead th {\n",
       "        text-align: right;\n",
       "    }\n",
       "</style>\n",
       "<table border=\"1\" class=\"dataframe\">\n",
       "  <thead>\n",
       "    <tr style=\"text-align: right;\">\n",
       "      <th></th>\n",
       "      <th>Date</th>\n",
       "      <th>Country</th>\n",
       "      <th>New deaths</th>\n",
       "    </tr>\n",
       "  </thead>\n",
       "  <tbody>\n",
       "    <tr>\n",
       "      <td>10856</td>\n",
       "      <td>2020-04-16</td>\n",
       "      <td>United States</td>\n",
       "      <td>4928</td>\n",
       "    </tr>\n",
       "    <tr>\n",
       "      <td>10858</td>\n",
       "      <td>2020-04-18</td>\n",
       "      <td>United States</td>\n",
       "      <td>3770</td>\n",
       "    </tr>\n",
       "    <tr>\n",
       "      <td>10855</td>\n",
       "      <td>2020-04-15</td>\n",
       "      <td>United States</td>\n",
       "      <td>2408</td>\n",
       "    </tr>\n",
       "    <tr>\n",
       "      <td>10857</td>\n",
       "      <td>2020-04-17</td>\n",
       "      <td>United States</td>\n",
       "      <td>2299</td>\n",
       "    </tr>\n",
       "    <tr>\n",
       "      <td>10851</td>\n",
       "      <td>2020-04-11</td>\n",
       "      <td>United States</td>\n",
       "      <td>2087</td>\n",
       "    </tr>\n",
       "    <tr>\n",
       "      <td>3666</td>\n",
       "      <td>2020-04-04</td>\n",
       "      <td>France</td>\n",
       "      <td>2004</td>\n",
       "    </tr>\n",
       "    <tr>\n",
       "      <td>10849</td>\n",
       "      <td>2020-04-09</td>\n",
       "      <td>United States</td>\n",
       "      <td>1922</td>\n",
       "    </tr>\n",
       "    <tr>\n",
       "      <td>10848</td>\n",
       "      <td>2020-04-08</td>\n",
       "      <td>United States</td>\n",
       "      <td>1906</td>\n",
       "    </tr>\n",
       "    <tr>\n",
       "      <td>10850</td>\n",
       "      <td>2020-04-10</td>\n",
       "      <td>United States</td>\n",
       "      <td>1873</td>\n",
       "    </tr>\n",
       "    <tr>\n",
       "      <td>10859</td>\n",
       "      <td>2020-04-19</td>\n",
       "      <td>United States</td>\n",
       "      <td>1856</td>\n",
       "    </tr>\n",
       "  </tbody>\n",
       "</table>\n",
       "</div>"
      ],
      "text/plain": [
       "             Date        Country  New deaths\n",
       "10856  2020-04-16  United States        4928\n",
       "10858  2020-04-18  United States        3770\n",
       "10855  2020-04-15  United States        2408\n",
       "10857  2020-04-17  United States        2299\n",
       "10851  2020-04-11  United States        2087\n",
       "3666   2020-04-04         France        2004\n",
       "10849  2020-04-09  United States        1922\n",
       "10848  2020-04-08  United States        1906\n",
       "10850  2020-04-10  United States        1873\n",
       "10859  2020-04-19  United States        1856"
      ]
     },
     "execution_count": 20,
     "metadata": {},
     "output_type": "execute_result"
    }
   ],
   "source": [
    "#copy the dataframe\n",
    "df_new_deaths = df_all_data[['Date','Country','New deaths']].copy()\n",
    "#delete the row regarding the entire world\n",
    "df_new_deaths = df_new_deaths[df_new_deaths['Country'] != 'World']\n",
    "#sort the data in descending order and print the top 10 rows\n",
    "df_new_deaths.sort_values(by = 'New deaths', ascending = False, inplace = True)\n",
    "df_new_deaths.head(10)"
   ]
  },
  {
   "cell_type": "markdown",
   "metadata": {},
   "source": [
    "Evaluate the moving average for new deaths taking in consideration a period of 10 days."
   ]
  },
  {
   "cell_type": "code",
   "execution_count": 21,
   "metadata": {},
   "outputs": [],
   "source": [
    "df_ = df_all_data.copy()\n",
    "df_matrix_new_cases = get_matrix_dataset(df_, 'New cases')"
   ]
  },
  {
   "cell_type": "code",
   "execution_count": 22,
   "metadata": {},
   "outputs": [
    {
     "data": {
      "text/html": [
       "<div>\n",
       "<style scoped>\n",
       "    .dataframe tbody tr th:only-of-type {\n",
       "        vertical-align: middle;\n",
       "    }\n",
       "\n",
       "    .dataframe tbody tr th {\n",
       "        vertical-align: top;\n",
       "    }\n",
       "\n",
       "    .dataframe thead th {\n",
       "        text-align: right;\n",
       "    }\n",
       "</style>\n",
       "<table border=\"1\" class=\"dataframe\">\n",
       "  <thead>\n",
       "    <tr style=\"text-align: right;\">\n",
       "      <th></th>\n",
       "      <th>Afghanistan</th>\n",
       "      <th>Albania</th>\n",
       "      <th>Algeria</th>\n",
       "      <th>Andorra</th>\n",
       "      <th>Angola</th>\n",
       "      <th>Anguilla</th>\n",
       "      <th>Antigua and Barbuda</th>\n",
       "      <th>Argentina</th>\n",
       "      <th>Armenia</th>\n",
       "      <th>Aruba</th>\n",
       "      <th>...</th>\n",
       "      <th>United Arab Emirates</th>\n",
       "      <th>United Kingdom</th>\n",
       "      <th>United States</th>\n",
       "      <th>Uruguay</th>\n",
       "      <th>Uzbekistan</th>\n",
       "      <th>Venezuela</th>\n",
       "      <th>Vietnam</th>\n",
       "      <th>Yemen</th>\n",
       "      <th>Zambia</th>\n",
       "      <th>Zimbabwe</th>\n",
       "    </tr>\n",
       "    <tr>\n",
       "      <th>Date</th>\n",
       "      <th></th>\n",
       "      <th></th>\n",
       "      <th></th>\n",
       "      <th></th>\n",
       "      <th></th>\n",
       "      <th></th>\n",
       "      <th></th>\n",
       "      <th></th>\n",
       "      <th></th>\n",
       "      <th></th>\n",
       "      <th></th>\n",
       "      <th></th>\n",
       "      <th></th>\n",
       "      <th></th>\n",
       "      <th></th>\n",
       "      <th></th>\n",
       "      <th></th>\n",
       "      <th></th>\n",
       "      <th></th>\n",
       "      <th></th>\n",
       "      <th></th>\n",
       "    </tr>\n",
       "  </thead>\n",
       "  <tbody>\n",
       "    <tr>\n",
       "      <td>2020-01-10</td>\n",
       "      <td>0</td>\n",
       "      <td>0</td>\n",
       "      <td>0</td>\n",
       "      <td>0</td>\n",
       "      <td>0</td>\n",
       "      <td>0</td>\n",
       "      <td>0</td>\n",
       "      <td>0</td>\n",
       "      <td>0</td>\n",
       "      <td>0</td>\n",
       "      <td>...</td>\n",
       "      <td>0</td>\n",
       "      <td>0</td>\n",
       "      <td>0</td>\n",
       "      <td>0</td>\n",
       "      <td>0</td>\n",
       "      <td>0</td>\n",
       "      <td>0</td>\n",
       "      <td>0</td>\n",
       "      <td>0</td>\n",
       "      <td>0</td>\n",
       "    </tr>\n",
       "    <tr>\n",
       "      <td>2020-01-11</td>\n",
       "      <td>0</td>\n",
       "      <td>0</td>\n",
       "      <td>0</td>\n",
       "      <td>0</td>\n",
       "      <td>0</td>\n",
       "      <td>0</td>\n",
       "      <td>0</td>\n",
       "      <td>0</td>\n",
       "      <td>0</td>\n",
       "      <td>0</td>\n",
       "      <td>...</td>\n",
       "      <td>0</td>\n",
       "      <td>0</td>\n",
       "      <td>0</td>\n",
       "      <td>0</td>\n",
       "      <td>0</td>\n",
       "      <td>0</td>\n",
       "      <td>0</td>\n",
       "      <td>0</td>\n",
       "      <td>0</td>\n",
       "      <td>0</td>\n",
       "    </tr>\n",
       "    <tr>\n",
       "      <td>2020-01-12</td>\n",
       "      <td>0</td>\n",
       "      <td>0</td>\n",
       "      <td>0</td>\n",
       "      <td>0</td>\n",
       "      <td>0</td>\n",
       "      <td>0</td>\n",
       "      <td>0</td>\n",
       "      <td>0</td>\n",
       "      <td>0</td>\n",
       "      <td>0</td>\n",
       "      <td>...</td>\n",
       "      <td>0</td>\n",
       "      <td>0</td>\n",
       "      <td>0</td>\n",
       "      <td>0</td>\n",
       "      <td>0</td>\n",
       "      <td>0</td>\n",
       "      <td>0</td>\n",
       "      <td>0</td>\n",
       "      <td>0</td>\n",
       "      <td>0</td>\n",
       "    </tr>\n",
       "    <tr>\n",
       "      <td>2020-01-13</td>\n",
       "      <td>0</td>\n",
       "      <td>0</td>\n",
       "      <td>0</td>\n",
       "      <td>0</td>\n",
       "      <td>0</td>\n",
       "      <td>0</td>\n",
       "      <td>0</td>\n",
       "      <td>0</td>\n",
       "      <td>0</td>\n",
       "      <td>0</td>\n",
       "      <td>...</td>\n",
       "      <td>0</td>\n",
       "      <td>0</td>\n",
       "      <td>0</td>\n",
       "      <td>0</td>\n",
       "      <td>0</td>\n",
       "      <td>0</td>\n",
       "      <td>0</td>\n",
       "      <td>0</td>\n",
       "      <td>0</td>\n",
       "      <td>0</td>\n",
       "    </tr>\n",
       "    <tr>\n",
       "      <td>2020-01-14</td>\n",
       "      <td>0</td>\n",
       "      <td>0</td>\n",
       "      <td>0</td>\n",
       "      <td>0</td>\n",
       "      <td>0</td>\n",
       "      <td>0</td>\n",
       "      <td>0</td>\n",
       "      <td>0</td>\n",
       "      <td>0</td>\n",
       "      <td>0</td>\n",
       "      <td>...</td>\n",
       "      <td>0</td>\n",
       "      <td>0</td>\n",
       "      <td>0</td>\n",
       "      <td>0</td>\n",
       "      <td>0</td>\n",
       "      <td>0</td>\n",
       "      <td>0</td>\n",
       "      <td>0</td>\n",
       "      <td>0</td>\n",
       "      <td>0</td>\n",
       "    </tr>\n",
       "    <tr>\n",
       "      <td>...</td>\n",
       "      <td>...</td>\n",
       "      <td>...</td>\n",
       "      <td>...</td>\n",
       "      <td>...</td>\n",
       "      <td>...</td>\n",
       "      <td>...</td>\n",
       "      <td>...</td>\n",
       "      <td>...</td>\n",
       "      <td>...</td>\n",
       "      <td>...</td>\n",
       "      <td>...</td>\n",
       "      <td>...</td>\n",
       "      <td>...</td>\n",
       "      <td>...</td>\n",
       "      <td>...</td>\n",
       "      <td>...</td>\n",
       "      <td>...</td>\n",
       "      <td>...</td>\n",
       "      <td>...</td>\n",
       "      <td>...</td>\n",
       "      <td>...</td>\n",
       "    </tr>\n",
       "    <tr>\n",
       "      <td>2020-04-16</td>\n",
       "      <td>19</td>\n",
       "      <td>18</td>\n",
       "      <td>94</td>\n",
       "      <td>27</td>\n",
       "      <td>0</td>\n",
       "      <td>0</td>\n",
       "      <td>1</td>\n",
       "      <td>94</td>\n",
       "      <td>48</td>\n",
       "      <td>4</td>\n",
       "      <td>...</td>\n",
       "      <td>117</td>\n",
       "      <td>3237</td>\n",
       "      <td>24304</td>\n",
       "      <td>18</td>\n",
       "      <td>20</td>\n",
       "      <td>3</td>\n",
       "      <td>9</td>\n",
       "      <td>0</td>\n",
       "      <td>2</td>\n",
       "      <td>0</td>\n",
       "    </tr>\n",
       "    <tr>\n",
       "      <td>2020-04-17</td>\n",
       "      <td>22</td>\n",
       "      <td>18</td>\n",
       "      <td>95</td>\n",
       "      <td>27</td>\n",
       "      <td>1</td>\n",
       "      <td>0</td>\n",
       "      <td>0</td>\n",
       "      <td>96</td>\n",
       "      <td>49</td>\n",
       "      <td>3</td>\n",
       "      <td>...</td>\n",
       "      <td>146</td>\n",
       "      <td>3614</td>\n",
       "      <td>25164</td>\n",
       "      <td>16</td>\n",
       "      <td>25</td>\n",
       "      <td>4</td>\n",
       "      <td>8</td>\n",
       "      <td>0</td>\n",
       "      <td>2</td>\n",
       "      <td>0</td>\n",
       "    </tr>\n",
       "    <tr>\n",
       "      <td>2020-04-18</td>\n",
       "      <td>24</td>\n",
       "      <td>19</td>\n",
       "      <td>101</td>\n",
       "      <td>25</td>\n",
       "      <td>1</td>\n",
       "      <td>0</td>\n",
       "      <td>0</td>\n",
       "      <td>93</td>\n",
       "      <td>46</td>\n",
       "      <td>4</td>\n",
       "      <td>...</td>\n",
       "      <td>167</td>\n",
       "      <td>3706</td>\n",
       "      <td>26351</td>\n",
       "      <td>17</td>\n",
       "      <td>29</td>\n",
       "      <td>4</td>\n",
       "      <td>7</td>\n",
       "      <td>0</td>\n",
       "      <td>2</td>\n",
       "      <td>0</td>\n",
       "    </tr>\n",
       "    <tr>\n",
       "      <td>2020-04-19</td>\n",
       "      <td>26</td>\n",
       "      <td>18</td>\n",
       "      <td>101</td>\n",
       "      <td>23</td>\n",
       "      <td>1</td>\n",
       "      <td>0</td>\n",
       "      <td>0</td>\n",
       "      <td>97</td>\n",
       "      <td>42</td>\n",
       "      <td>4</td>\n",
       "      <td>...</td>\n",
       "      <td>189</td>\n",
       "      <td>3815</td>\n",
       "      <td>27414</td>\n",
       "      <td>12</td>\n",
       "      <td>37</td>\n",
       "      <td>4</td>\n",
       "      <td>2</td>\n",
       "      <td>0</td>\n",
       "      <td>1</td>\n",
       "      <td>0</td>\n",
       "    </tr>\n",
       "    <tr>\n",
       "      <td>2020-04-20</td>\n",
       "      <td>30</td>\n",
       "      <td>18</td>\n",
       "      <td>106</td>\n",
       "      <td>23</td>\n",
       "      <td>1</td>\n",
       "      <td>0</td>\n",
       "      <td>0</td>\n",
       "      <td>97</td>\n",
       "      <td>45</td>\n",
       "      <td>2</td>\n",
       "      <td>...</td>\n",
       "      <td>219</td>\n",
       "      <td>4121</td>\n",
       "      <td>28910</td>\n",
       "      <td>14</td>\n",
       "      <td>41</td>\n",
       "      <td>4</td>\n",
       "      <td>2</td>\n",
       "      <td>0</td>\n",
       "      <td>1</td>\n",
       "      <td>0</td>\n",
       "    </tr>\n",
       "  </tbody>\n",
       "</table>\n",
       "<p>102 rows × 185 columns</p>\n",
       "</div>"
      ],
      "text/plain": [
       "            Afghanistan  Albania  Algeria  Andorra  Angola  Anguilla  \\\n",
       "Date                                                                   \n",
       "2020-01-10            0        0        0        0       0         0   \n",
       "2020-01-11            0        0        0        0       0         0   \n",
       "2020-01-12            0        0        0        0       0         0   \n",
       "2020-01-13            0        0        0        0       0         0   \n",
       "2020-01-14            0        0        0        0       0         0   \n",
       "...                 ...      ...      ...      ...     ...       ...   \n",
       "2020-04-16           19       18       94       27       0         0   \n",
       "2020-04-17           22       18       95       27       1         0   \n",
       "2020-04-18           24       19      101       25       1         0   \n",
       "2020-04-19           26       18      101       23       1         0   \n",
       "2020-04-20           30       18      106       23       1         0   \n",
       "\n",
       "            Antigua and Barbuda  Argentina  Armenia  Aruba  ...  \\\n",
       "Date                                                        ...   \n",
       "2020-01-10                    0          0        0      0  ...   \n",
       "2020-01-11                    0          0        0      0  ...   \n",
       "2020-01-12                    0          0        0      0  ...   \n",
       "2020-01-13                    0          0        0      0  ...   \n",
       "2020-01-14                    0          0        0      0  ...   \n",
       "...                         ...        ...      ...    ...  ...   \n",
       "2020-04-16                    1         94       48      4  ...   \n",
       "2020-04-17                    0         96       49      3  ...   \n",
       "2020-04-18                    0         93       46      4  ...   \n",
       "2020-04-19                    0         97       42      4  ...   \n",
       "2020-04-20                    0         97       45      2  ...   \n",
       "\n",
       "            United Arab Emirates  United Kingdom  United States  Uruguay  \\\n",
       "Date                                                                       \n",
       "2020-01-10                     0               0              0        0   \n",
       "2020-01-11                     0               0              0        0   \n",
       "2020-01-12                     0               0              0        0   \n",
       "2020-01-13                     0               0              0        0   \n",
       "2020-01-14                     0               0              0        0   \n",
       "...                          ...             ...            ...      ...   \n",
       "2020-04-16                   117            3237          24304       18   \n",
       "2020-04-17                   146            3614          25164       16   \n",
       "2020-04-18                   167            3706          26351       17   \n",
       "2020-04-19                   189            3815          27414       12   \n",
       "2020-04-20                   219            4121          28910       14   \n",
       "\n",
       "            Uzbekistan  Venezuela  Vietnam  Yemen  Zambia  Zimbabwe  \n",
       "Date                                                                 \n",
       "2020-01-10           0          0        0      0       0         0  \n",
       "2020-01-11           0          0        0      0       0         0  \n",
       "2020-01-12           0          0        0      0       0         0  \n",
       "2020-01-13           0          0        0      0       0         0  \n",
       "2020-01-14           0          0        0      0       0         0  \n",
       "...                ...        ...      ...    ...     ...       ...  \n",
       "2020-04-16          20          3        9      0       2         0  \n",
       "2020-04-17          25          4        8      0       2         0  \n",
       "2020-04-18          29          4        7      0       2         0  \n",
       "2020-04-19          37          4        2      0       1         0  \n",
       "2020-04-20          41          4        2      0       1         0  \n",
       "\n",
       "[102 rows x 185 columns]"
      ]
     },
     "execution_count": 22,
     "metadata": {},
     "output_type": "execute_result"
    }
   ],
   "source": [
    "df_new_cases_moving_average_ = df_matrix_new_cases.copy()\n",
    "df_new_cases_moving_average = evaluate_moving_average(df_new_cases_moving_average_, 10)\n",
    "df_new_cases_moving_average"
   ]
  },
  {
   "cell_type": "code",
   "execution_count": 23,
   "metadata": {},
   "outputs": [
    {
     "name": "stderr",
     "output_type": "stream",
     "text": [
      "C:\\Users\\pro48\\AppData\\Local\\Continuum\\anaconda3\\envs\\datascienceforbusiness\\lib\\site-packages\\pandas\\plotting\\_matplotlib\\converter.py:103: FutureWarning: Using an implicitly registered datetime converter for a matplotlib plotting method. The converter was registered by pandas on import. Future versions of pandas will require you to explicitly register matplotlib converters.\n",
      "\n",
      "To register the converters:\n",
      "\t>>> from pandas.plotting import register_matplotlib_converters\n",
      "\t>>> register_matplotlib_converters()\n",
      "  warnings.warn(msg, FutureWarning)\n"
     ]
    },
    {
     "data": {
      "image/png": "[encoded data removed]",
      "text/plain": [
       "<Figure size 432x288 with 1 Axes>"
      ]
     },
     "metadata": {
      "needs_background": "light"
     },
     "output_type": "display_data"
    }
   ],
   "source": [
    "for country in top_10_total_cases['Country']:\n",
    "    plt.plot(df_new_cases_moving_average[country], label = country)\n",
    "    plt.legend()\n",
    "    plt.xticks(rotation = 90)\n",
    "    plt.title(\"New cases moving average\")\n",
    "plt.show()"
   ]
  },
  {
   "cell_type": "markdown",
   "metadata": {},
   "source": [
    "Print data of the top ten day/country for new cases"
   ]
  },
  {
   "cell_type": "code",
   "execution_count": 24,
   "metadata": {},
   "outputs": [
    {
     "data": {
      "text/html": [
       "<div>\n",
       "<style scoped>\n",
       "    .dataframe tbody tr th:only-of-type {\n",
       "        vertical-align: middle;\n",
       "    }\n",
       "\n",
       "    .dataframe tbody tr th {\n",
       "        vertical-align: top;\n",
       "    }\n",
       "\n",
       "    .dataframe thead th {\n",
       "        text-align: right;\n",
       "    }\n",
       "</style>\n",
       "<table border=\"1\" class=\"dataframe\">\n",
       "  <thead>\n",
       "    <tr style=\"text-align: right;\">\n",
       "      <th></th>\n",
       "      <th>Date</th>\n",
       "      <th>Country</th>\n",
       "      <th>New cases</th>\n",
       "    </tr>\n",
       "  </thead>\n",
       "  <tbody>\n",
       "    <tr>\n",
       "      <td>10851</td>\n",
       "      <td>2020-04-11</td>\n",
       "      <td>United States</td>\n",
       "      <td>35527</td>\n",
       "    </tr>\n",
       "    <tr>\n",
       "      <td>10845</td>\n",
       "      <td>2020-04-05</td>\n",
       "      <td>United States</td>\n",
       "      <td>34272</td>\n",
       "    </tr>\n",
       "    <tr>\n",
       "      <td>10850</td>\n",
       "      <td>2020-04-10</td>\n",
       "      <td>United States</td>\n",
       "      <td>33901</td>\n",
       "    </tr>\n",
       "    <tr>\n",
       "      <td>10849</td>\n",
       "      <td>2020-04-09</td>\n",
       "      <td>United States</td>\n",
       "      <td>33323</td>\n",
       "    </tr>\n",
       "    <tr>\n",
       "      <td>10859</td>\n",
       "      <td>2020-04-19</td>\n",
       "      <td>United States</td>\n",
       "      <td>32922</td>\n",
       "    </tr>\n",
       "    <tr>\n",
       "      <td>10844</td>\n",
       "      <td>2020-04-04</td>\n",
       "      <td>United States</td>\n",
       "      <td>32425</td>\n",
       "    </tr>\n",
       "    <tr>\n",
       "      <td>10857</td>\n",
       "      <td>2020-04-17</td>\n",
       "      <td>United States</td>\n",
       "      <td>31667</td>\n",
       "    </tr>\n",
       "    <tr>\n",
       "      <td>10858</td>\n",
       "      <td>2020-04-18</td>\n",
       "      <td>United States</td>\n",
       "      <td>30833</td>\n",
       "    </tr>\n",
       "    <tr>\n",
       "      <td>10848</td>\n",
       "      <td>2020-04-08</td>\n",
       "      <td>United States</td>\n",
       "      <td>30613</td>\n",
       "    </tr>\n",
       "    <tr>\n",
       "      <td>10847</td>\n",
       "      <td>2020-04-07</td>\n",
       "      <td>United States</td>\n",
       "      <td>30561</td>\n",
       "    </tr>\n",
       "  </tbody>\n",
       "</table>\n",
       "</div>"
      ],
      "text/plain": [
       "             Date        Country  New cases\n",
       "10851  2020-04-11  United States      35527\n",
       "10845  2020-04-05  United States      34272\n",
       "10850  2020-04-10  United States      33901\n",
       "10849  2020-04-09  United States      33323\n",
       "10859  2020-04-19  United States      32922\n",
       "10844  2020-04-04  United States      32425\n",
       "10857  2020-04-17  United States      31667\n",
       "10858  2020-04-18  United States      30833\n",
       "10848  2020-04-08  United States      30613\n",
       "10847  2020-04-07  United States      30561"
      ]
     },
     "execution_count": 24,
     "metadata": {},
     "output_type": "execute_result"
    }
   ],
   "source": [
    "#copy the dataframe\n",
    "df_new_cases = df_all_data[['Date','Country','New cases']].copy()\n",
    "#delete the row regarding the entire world\n",
    "df_new_cases = df_new_cases[df_new_cases['Country'] != 'World']\n",
    "df_new_cases.sort_values(by = 'New cases', ascending = False, inplace = True)\n",
    "df_new_cases.head(10)"
   ]
  },
  {
   "cell_type": "markdown",
   "metadata": {},
   "source": [
    "## Analysis of the percentage of growth"
   ]
  },
  {
   "cell_type": "markdown",
   "metadata": {},
   "source": [
    "Create a dataframe with the total deaths grow rate for each country day by day."
   ]
  },
  {
   "cell_type": "code",
   "execution_count": 25,
   "metadata": {},
   "outputs": [],
   "source": [
    "df_total_deaths = df_all_data[['Date','Country','Total deaths']].copy()\n",
    "death_growth_rate = evaluateGrowthRate(df_total_deaths, 1, 'Total deaths')"
   ]
  },
  {
   "cell_type": "markdown",
   "metadata": {},
   "source": [
    "Plot the death grow rate of the top 5 countries for death."
   ]
  },
  {
   "cell_type": "code",
   "execution_count": 26,
   "metadata": {},
   "outputs": [
    {
     "data": {
      "image/png": "[encoded data removed]",
      "text/plain": [
       "<Figure size 432x288 with 1 Axes>"
      ]
     },
     "metadata": {
      "needs_background": "light"
     },
     "output_type": "display_data"
    }
   ],
   "source": [
    "#get the list of the top 5 countries\n",
    "top_5_death_countries_list = top_10_total_deaths['Country'].to_list()[0:5]\n",
    "#select the growth rate only of the countries list\n",
    "some_countries_deaths_growth = death_growth_rate[top_5_death_countries_list]\n",
    "\n",
    "for country in top_5_death_countries_list:\n",
    "    plt.plot(some_countries_deaths_growth[country], label = country)\n",
    "plt.legend()\n",
    "plt.xticks(rotation = 90)\n",
    "plt.title(\"Percentage growth rate of total deaths\")\n",
    "plt.show()"
   ]
  },
  {
   "cell_type": "markdown",
   "metadata": {},
   "source": [
    "Create a dataframe with the total cases grow rate for each country day by day."
   ]
  },
  {
   "cell_type": "code",
   "execution_count": 27,
   "metadata": {},
   "outputs": [],
   "source": [
    "df_total_cases = df_all_data[['Date','Country','Total cases']].copy()\n",
    "case_growth_rate = evaluateGrowthRate(df_total_cases, 1, 'Total cases')"
   ]
  },
  {
   "cell_type": "markdown",
   "metadata": {},
   "source": [
    "Plot the grow rate of the top 5 countries for number of cases."
   ]
  },
  {
   "cell_type": "code",
   "execution_count": 28,
   "metadata": {},
   "outputs": [
    {
     "data": {
      "image/png": "[encoded data removed]",
      "text/plain": [
       "<Figure size 432x288 with 1 Axes>"
      ]
     },
     "metadata": {
      "needs_background": "light"
     },
     "output_type": "display_data"
    }
   ],
   "source": [
    "#get the list of the top 5 countries\n",
    "top_5_case_countries_list = top_10_total_cases['Country'].to_list()[0:5]\n",
    "#select the growth rate only of the countries list\n",
    "some_countries_cases_growth = case_growth_rate[top_5_case_countries_list]\n",
    "\n",
    "for country in top_5_case_countries_list:\n",
    "    plt.plot(some_countries_cases_growth[country], label = country)\n",
    "plt.legend()\n",
    "plt.xticks(rotation = 90)\n",
    "plt.title(\"Percentage growth rate of total cases\")\n",
    "plt.show()"
   ]
  }
 ],
 "metadata": {
  "kernelspec": {
   "display_name": "Python 3",
   "language": "python",
   "name": "python3"
  },
  "language_info": {
   "codemirror_mode": {
    "name": "ipython",
    "version": 3
   },
   "file_extension": ".py",
   "mimetype": "text/x-python",
   "name": "python",
   "nbconvert_exporter": "python",
   "pygments_lexer": "ipython3",
   "version": "3.6.9"
  }
 },
 "nbformat": 4,
 "nbformat_minor": 2
}
