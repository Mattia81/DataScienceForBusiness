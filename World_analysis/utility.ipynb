{
 "cells": [
  {
   "cell_type": "markdown",
   "metadata": {},
   "source": [
    "Function to plot data about the growth starting from a specific number of cases. The countries for which the values are plotted are passed to the funcion as a list."
   ]
  },
  {
   "cell_type": "code",
   "execution_count": 4,
   "metadata": {},
   "outputs": [],
   "source": [
    "def plotGrowthDataFromFirstCases(dataset, countries_list, column_reference,\n",
    "                               graph_title, starting_number, y_axis_max_limit = -1):\n",
    "    \"\"\"This procedure allow to plot data relative to the growth of\n",
    "        a specific value starting from the first cases.\n",
    "        Parameters:\n",
    "        dataset -> is the dataset where the data are retreived\n",
    "        countries_list -> is the list of countries which data must be plotted\n",
    "        column_reference -> is the name of the column under analysis\n",
    "        graph_title -> is the name of the graph that must be showed\n",
    "        starting_number -> is the minimum number of cases from each the growth\n",
    "            must be plotted\n",
    "        y_axis_max_limit -> is the maximum value for the y axis plot, default value is -1,\n",
    "            that means plot with the maximum range\n",
    "    \"\"\"\n",
    "    for country in countries_list:\n",
    "        country_growth_total_cases = dataset[dataset['Country'] == country]\n",
    "        country_growth_total_cases = country_growth_total_cases[country_growth_total_cases[column_reference] >= starting_number]\n",
    "        plt.plot(range(len(country_growth_total_cases)),country_growth_total_cases[column_reference], label = country)\n",
    "    plt.xticks(rotation = 90)\n",
    "    plt.legend()\n",
    "    plt.title(graph_title)\n",
    "    if (y_axis_max_limit > 0):\n",
    "        plt.ylim(0, y_axis_max_limit)\n",
    "    plt.show()"
   ]
  },
  {
   "cell_type": "markdown",
   "metadata": {},
   "source": [
    "Define a function to evaluate the number of cases per million of inhabitants."
   ]
  },
  {
   "cell_type": "code",
   "execution_count": 13,
   "metadata": {},
   "outputs": [],
   "source": [
    "def evaluateRatePerNumberOfMillion(dataset, ref_column, new_column_name):\n",
    "    \"\"\"This funcion allows to add a new columns to the input dataset\n",
    "       containing the number of cases of the reference column out of the\n",
    "       population.\n",
    "       Parameters:\n",
    "       dataset -> is the input dataset containing all the necessary information.\n",
    "           It is import it has a column \"Population\" with the total number of\n",
    "           inhabitants.\n",
    "       ref_column -> is the column under evaluation\n",
    "       new_column_name -> is the name of the column where the value is stored\n",
    "    \"\"\"\n",
    "    \n",
    "    dataset[new_column_name] = dataset[ref_column]/dataset['Population'] * 1000000\n",
    "    return dataset"
   ]
  },
  {
   "cell_type": "markdown",
   "metadata": {},
   "source": [
    "Define a function that create a new dataframe containing the growth rate for each country. It is possible to specify the time interval to consider, expressed in days."
   ]
  },
  {
   "cell_type": "code",
   "execution_count": 12,
   "metadata": {},
   "outputs": [],
   "source": [
    "def evaluateGrowthRate(dataset, number_of_days, reference_column):\n",
    "    \"\"\"This function allows to evaluate the growth rate of the reference\n",
    "       column in input, gathering the data from the dataset in input with\n",
    "       a specific delay expressed in days. The starting and ending date\n",
    "       considered is based by the minumum and maximum date present in the\n",
    "       input dataset. The dataframe in input must have a column 'Date'\n",
    "       containing the list of reference date. The value returned is a\n",
    "       new dataframe containing for each country a specific column and the\n",
    "       value in each row is the percentage growth calculated from the previous \n",
    "       date.\n",
    "       Parameters:\n",
    "       dataset -> is the dataset to gather the data\n",
    "       number_of_days -> is the frequency in which the evaluation is done\n",
    "       reference_column -> is the column in the dataset in input to consider\n",
    "           for evaluating the growth\n",
    "    \"\"\"\n",
    "    #get the minimum date to consider\n",
    "    minimum_date = dataset['Date'].min()\n",
    "    #get the maximum date to consider\n",
    "    maximum_date = dataset['Date'].max()\n",
    "    #create the list of country to consider\n",
    "    list_of_country = dataset['Country'].unique()\n",
    "    #Create a new dataframe with the list of country in each column\n",
    "    #and the list of date as index\n",
    "    date_list = pd.date_range(start = minimum_date, end = maximum_date, \n",
    "                              freq = str(number_of_days) + 'D')\n",
    "    #create a new dataframe with country as columns and date as index\n",
    "    #filled with 0 values\n",
    "    zero_data = np.zeros(shape=(len(date_list),len(list_of_country)))\n",
    "    df_growth = pd.DataFrame(zero_data, index = date_list, columns = list_of_country)\n",
    "    #iterate on all the index date\n",
    "    for index_date in range(len(date_list)):\n",
    "        #first row is not considered because there is not a previus value\n",
    "        #for which the growth can be evaluated\n",
    "        if index_date == 0:\n",
    "            continue\n",
    "        else:\n",
    "            #get the string date that has to be evaluated\n",
    "            current_date = str(date_list.values[index_date])[:10]\n",
    "            #get the previous date\n",
    "            previous_date = str(date_list.values[index_date - 1])[:10]\n",
    "            #iterate on all the countries present in the input dataset\n",
    "            for country in list_of_country:\n",
    "                #get the list of value available for the country in exam\n",
    "                country_values = dataset.loc[dataset['Country'] == country]\n",
    "                #get the row value for the date/country in exame\n",
    "                current_value = country_values.loc[dataset['Date'] == current_date]\n",
    "                #get the previous row value for the date/country in exame\n",
    "                previous_value = country_values.loc[dataset['Date'] == previous_date]\n",
    "                #verify that the two values are not empty, otherwise skip to the next\n",
    "                #iteration\n",
    "                if len(current_value) > 0 and len(previous_value) > 0:\n",
    "                    #if values are not empty, extract the two number used to evaluate\n",
    "                    #the growth\n",
    "                    current_value = current_value[reference_column].values[0]\n",
    "                    previous_value = previous_value[reference_column].values[0]\n",
    "                    #verifies that the previous value is not 0 to avoid division error\n",
    "                    if previous_value > 0:\n",
    "                        #evaluate the percentage growth between the 2 consecutive values\n",
    "                        growth_value = (current_value - previous_value) / previous_value * 100\n",
    "                        #set the evaluated value in the dataframe, at the right location\n",
    "                        df_growth.loc[current_date,country] = growth_value\n",
    "    #return the new dataframe with the outcomes\n",
    "    return df_growth"
   ]
  },
  {
   "cell_type": "markdown",
   "metadata": {},
   "source": [
    "Define a function to create a matrix of value"
   ]
  },
  {
   "cell_type": "code",
   "execution_count": 5,
   "metadata": {},
   "outputs": [],
   "source": [
    "def get_matrix_dataset(dataset, column_to_consider):\n",
    "    \"\"\"\n",
    "    This function produce a new dataframe where all the columns\n",
    "    represent a country, each row represent a date and the value\n",
    "    of the matrix is the value specified in the input 'column_to_consider'\n",
    "    Parameters:\n",
    "    dataset -> is the dataset organized in rows\n",
    "    column_to_consider -> is the value contained in the matrix\n",
    "    \"\"\"\n",
    "    #get the minimum date to consider\n",
    "    minimum_date = dataset['Date'].min()\n",
    "    #get the maximum date to consider\n",
    "    maximum_date = dataset['Date'].max()\n",
    "    #create the list of country to consider\n",
    "    country_list = dataset['Country'].unique()\n",
    "    #set Date column as index\n",
    "    dataset.set_index('Date',inplace = True)\n",
    "    #create a new dataframe with the list of country in each column\n",
    "    #and the list of date as index\n",
    "    date_list = pd.date_range(start = minimum_date, end = maximum_date, \n",
    "                              freq = '1' + 'D')\n",
    "    zero_data = np.zeros(dtype=int, shape=(len(date_list),len(country_list)))\n",
    "    df = pd.DataFrame(zero_data, index = date_list, columns = country_list)\n",
    "    for date in date_list:\n",
    "        date = str(date)[:10]\n",
    "        for country in country_list:\n",
    "            date_rows = dataset.loc[dataset['Country'] == country]\n",
    "            try:\n",
    "                value = date_rows.loc[date, column_to_consider]\n",
    "                df.loc[date,country] = value\n",
    "            except:\n",
    "                pass\n",
    "    return df"
   ]
  }
 ],
 "metadata": {
  "kernelspec": {
   "display_name": "Python 3",
   "language": "python",
   "name": "python3"
  },
  "language_info": {
   "codemirror_mode": {
    "name": "ipython",
    "version": 3
   },
   "file_extension": ".py",
   "mimetype": "text/x-python",
   "name": "python",
   "nbconvert_exporter": "python",
   "pygments_lexer": "ipython3",
   "version": "3.6.9"
  }
 },
 "nbformat": 4,
 "nbformat_minor": 2
}
